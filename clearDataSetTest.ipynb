{
 "metadata": {
  "language_info": {
   "codemirror_mode": {
    "name": "ipython",
    "version": 3
   },
   "file_extension": ".py",
   "mimetype": "text/x-python",
   "name": "python",
   "nbconvert_exporter": "python",
   "pygments_lexer": "ipython3",
   "version": "3.8.3-final"
  },
  "orig_nbformat": 2,
  "kernelspec": {
   "name": "python3",
   "display_name": "Python 3.8.3 64-bit",
   "metadata": {
    "interpreter": {
     "hash": "cfc4dac7468c084d307aa08ac9296834a0ec3041907b428597ed5d5794ddbf16"
    }
   }
  }
 },
 "nbformat": 4,
 "nbformat_minor": 2,
 "cells": [
  {
   "source": [
    "# LABELS"
   ],
   "cell_type": "markdown",
   "metadata": {}
  },
  {
   "cell_type": "code",
   "execution_count": 1,
   "metadata": {},
   "outputs": [],
   "source": [
    "import os\n",
    "import re\n",
    "UASpeechMLF_FilesPath=r'E:\\UAspeesh dataset\\mlf'\n",
    "UASpeechMLF_FilesName=[file for file in os.listdir(UASpeechMLF_FilesPath)if file.endswith('.mlf')]"
   ]
  },
  {
   "source": [
    "## Convert MLF Files To one Dict {FileName:Word}"
   ],
   "cell_type": "markdown",
   "metadata": {}
  },
  {
   "cell_type": "code",
   "execution_count": 2,
   "metadata": {},
   "outputs": [],
   "source": [
    "allmlf_FilesWordsInDict={}\n",
    "for mlf_File in UASpeechMLF_FilesName: \n",
    "    with open(UASpeechMLF_FilesPath+'\\\\'+mlf_File,mode='r',encoding='utf-8') as mlf_FileBuffer:\n",
    "        mlf_FileBufferWords=mlf_FileBuffer.readlines()\n",
    "    CounterOfmlf_FileBufferWords=0\n",
    "    for line in mlf_FileBufferWords:\n",
    "        CounterOfmlf_FileBufferWords+=1\n",
    "        if re.match(r'\"\\*/\\w+.lab\"',line):\n",
    "            allmlf_FilesWordsInDict[re.sub('\"\\n','',re.sub(r'\"\\*/','',line))]=mlf_FileBufferWords[CounterOfmlf_FileBufferWords]"
   ]
  },
  {
   "source": [
    "## convert all mlf files to one txt file as Dict (file:word)"
   ],
   "cell_type": "markdown",
   "metadata": {}
  },
  {
   "cell_type": "code",
   "execution_count": 3,
   "metadata": {},
   "outputs": [],
   "source": [
    "def convertDictToFile(Dict): \n",
    "    if not os.path.isdir('files'):\n",
    "        os.mkdir('files')\n",
    "    with open('files/labels.txt','w') as newLabelFile:\n",
    "            for key in Dict:\n",
    "                newLabelFile.writelines(key+':'+Dict[key])"
   ]
  },
  {
   "cell_type": "code",
   "execution_count": 4,
   "metadata": {},
   "outputs": [],
   "source": [
    "convertDictToFile(allmlf_FilesWordsInDict)"
   ]
  },
  {
   "source": [
    "## Convert MLF Files To Multi TXT Files (107100) in Folder (files)"
   ],
   "cell_type": "markdown",
   "metadata": {}
  },
  {
   "cell_type": "code",
   "execution_count": null,
   "metadata": {},
   "outputs": [],
   "source": [
    "if not os.path.isdir('files'):\n",
    "    os.mkdir('files')\n",
    "ErrorFileNameInLineDict={}\n",
    "for mlf_File in UASpeechMLF_FilesName: \n",
    "    with open(UASpeechMLF_FilesPath+'\\\\'+mlf_File,mode='r',encoding='utf-8') as mlf_FileBuffer:\n",
    "        mlf_FileBufferWords=mlf_FileBuffer.readlines()\n",
    "    CounterOfmlf_FileBufferWords=0\n",
    "    for line in mlf_FileBufferWords:\n",
    "        CounterOfmlf_FileBufferWords+=1\n",
    "        if re.match(r'\"\\*/\\w+.lab\"',line):\n",
    "            try:\n",
    "                with open('files/'+re.sub('.lab\"\\n','',re.sub(r'\"\\*/','',line))+'.txt','w') as WordFile:\n",
    "                    WordFile.write(mlf_FileBufferWords[CounterOfmlf_FileBufferWords])\n",
    "            except:\n",
    "                ErrorFileNameInLineDict[mlf_File+line]=CounterOfmlf_FileBufferWords\n"
   ]
  },
  {
   "source": [
    "## Print If There Erorr OR Not "
   ],
   "cell_type": "markdown",
   "metadata": {}
  },
  {
   "cell_type": "code",
   "execution_count": null,
   "metadata": {},
   "outputs": [],
   "source": [
    "print(ErrorFileNameInLineDict)"
   ]
  },
  {
   "source": [
    "## convert Values Of Dict Files to lists"
   ],
   "cell_type": "markdown",
   "metadata": {}
  },
  {
   "cell_type": "code",
   "execution_count": 5,
   "metadata": {},
   "outputs": [
    {
     "output_type": "stream",
     "name": "stdout",
     "text": [
      "107100\n"
     ]
    }
   ],
   "source": [
    "print(len(allmlf_FilesWordsInDict))\n",
    "# wordsInmlf_FilesInList=list(allmlf_FilesWordsInDict.values()) # use it if U Want or delete it\n",
    "# audioFilesNameInList=list(allmlf_FilesWordsInDict.keys()) # use it if U Want or delete it"
   ]
  },
  {
   "source": [
    "# AUDIO"
   ],
   "cell_type": "markdown",
   "metadata": {}
  },
  {
   "cell_type": "code",
   "execution_count": 6,
   "metadata": {},
   "outputs": [],
   "source": [
    "import os\n",
    "UASpeechMainFilesOfDataPath=r'E:\\UAspeesh dataset\\mlf' #edit path\n",
    "UASpeechMainFilesOfDataName=[folder for folder in os.listdir(UASpeechMainFilesOfDataPath)if os.path.isdir(UASpeechMainFilesOfDataPath+'\\\\'+folder)] #to get only Folders"
   ]
  },
  {
   "cell_type": "code",
   "execution_count": 7,
   "metadata": {},
   "outputs": [
    {
     "output_type": "stream",
     "name": "stdout",
     "text": [
      "['CF02', 'CF03', 'CF04', 'CM04', 'CM05', 'CM06', 'CM08', 'CM09', 'CM10', 'CM12', 'CM13', 'contro', 'F02', 'F03', 'F04', 'M01', 'M04', 'M05', 'M06', 'M07', 'M08', 'M09', 'M10', 'M11', 'M12', 'M13', 'M14', 'M15', 'M16']\n"
     ]
    }
   ],
   "source": [
    "print(UASpeechMainFilesOfDataName) # all Main Files in dataset"
   ]
  },
  {
   "source": [
    "## get All Audio Files Paths"
   ],
   "cell_type": "markdown",
   "metadata": {}
  },
  {
   "cell_type": "code",
   "execution_count": 8,
   "metadata": {},
   "outputs": [],
   "source": [
    "UASpeechDataFilesPaths=[]\n",
    "for mainFile in UASpeechMainFilesOfDataName:#main Files as CF02\n",
    "    for mainFileChiled in os.listdir(UASpeechMainFilesOfDataPath+'\\\\'+mainFile):#git records in every main file \n",
    "        if not os.path.isdir(UASpeechMainFilesOfDataPath+'\\\\'+mainFile+'\\\\'+mainFileChiled):#check if it file or Folder(control)\n",
    "            if mainFileChiled.endswith('.wav'):\n",
    "                UASpeechDataFilesPaths.append(UASpeechMainFilesOfDataPath+'\\\\'+mainFile+'\\\\'+mainFileChiled)#append Path of file .wav \n",
    "        else:\n",
    "            for mainFileLeaf in os.listdir(UASpeechMainFilesOfDataPath+'\\\\'+mainFile+'\\\\'+mainFileChiled): #if main folder have folder then data \n",
    "                if not os.path.isdir(UASpeechMainFilesOfDataPath+'\\\\'+mainFile+'\\\\'+mainFileChiled+'\\\\'+mainFileLeaf):#check if it file or another Folder              \n",
    "                    if mainFileLeaf.endswith('.wav'): \n",
    "                        UASpeechDataFilesPaths.append(UASpeechMainFilesOfDataPath+'\\\\'+mainFile+'\\\\'+mainFileChiled+'\\\\'+mainFileLeaf)"
   ]
  },
  {
   "cell_type": "code",
   "execution_count": 9,
   "metadata": {},
   "outputs": [
    {
     "output_type": "stream",
     "name": "stdout",
     "text": [
      "['E:\\\\UAspeesh dataset\\\\mlf\\\\CF02\\\\F1_S1_0001.wav', 'E:\\\\UAspeesh dataset\\\\mlf\\\\CF02\\\\F1_S1_0002.wav', 'E:\\\\UAspeesh dataset\\\\mlf\\\\CF02\\\\F1_S1_0003.wav', 'E:\\\\UAspeesh dataset\\\\mlf\\\\contro\\\\CF02\\\\F1_S1_0001.wav', 'E:\\\\UAspeesh dataset\\\\mlf\\\\contro\\\\CF02\\\\F1_S1_0002.wav', 'E:\\\\UAspeesh dataset\\\\mlf\\\\contro\\\\CF02\\\\F1_S1_0003.wav']\n"
     ]
    }
   ],
   "source": [
    "print(UASpeechDataFilesPaths)"
   ]
  },
  {
   "source": [
    "## Delete All Audio Files That Haven't Label"
   ],
   "cell_type": "markdown",
   "metadata": {}
  },
  {
   "cell_type": "code",
   "execution_count": null,
   "metadata": {},
   "outputs": [],
   "source": [
    "UASpeechDataFilesPathsCopy=UASpeechDataFilesPaths.copy()\n",
    "ErrorRemovedFile=[]\n",
    "for audioFilePath in UASpeechDataFilesPaths:\n",
    "    audioFileName=re.sub('.wav','.lab',audioFilePath.split('\\\\')[-1])\n",
    "    if audioFileName not in allmlf_FilesWordsInDict:\n",
    "        try:\n",
    "            os.remove(audioFilePath)\n",
    "            UASpeechDataFilesPathsCopy.remove(audioFilePath)\n",
    "        except:\n",
    "            ErrorRemovedFile.append(audioFilePath)\n",
    "UASpeechDataFilesPaths=UASpeechDataFilesPathsCopy.copy()\n",
    "del(UASpeechDataFilesPathsCopy)"
   ]
  },
  {
   "cell_type": "code",
   "execution_count": null,
   "metadata": {},
   "outputs": [],
   "source": [
    "print(UASpeechDataFilesPaths) #all paths after update\n",
    "print(ErrorRemovedFile) #if there file have error and didn't remove"
   ]
  },
  {
   "source": [
    "## Delete All labels That Haven't Audio File"
   ],
   "cell_type": "markdown",
   "metadata": {}
  },
  {
   "cell_type": "code",
   "execution_count": null,
   "metadata": {},
   "outputs": [],
   "source": [
    "UASpeechDataFilesNames=[re.sub('.wav','.lab',audioFileName.split('\\\\')[-1]) for audioFileName in UASpeechDataFilesPaths ]\n",
    "allmlf_FilesWordsInDictCopy=allmlf_FilesWordsInDict.copy()\n",
    "for mlf_FileWord in allmlf_FilesWordsInDict:\n",
    "    if mlf_FileWord not in UASpeechDataFilesNames:\n",
    "        allmlf_FilesWordsInDictCopy.pop(mlf_FileWord)\n",
    "allmlf_FilesWordsInDict=allmlf_FilesWordsInDictCopy.copy()\n",
    "del(allmlf_FilesWordsInDictCopy)\n",
    "del(UASpeechDataFilesNames)"
   ]
  },
  {
   "cell_type": "code",
   "execution_count": null,
   "metadata": {},
   "outputs": [],
   "source": [
    "print(len(allmlf_FilesWordsInDict)) # labels after update"
   ]
  },
  {
   "cell_type": "code",
   "execution_count": null,
   "metadata": {},
   "outputs": [],
   "source": [
    "convertDictToFile(allmlf_FilesWordsInDict) #convert labels Dict to file after update"
   ]
  },
  {
   "source": [
    "# Extract features form waves"
   ],
   "cell_type": "markdown",
   "metadata": {}
  }
 ]
}