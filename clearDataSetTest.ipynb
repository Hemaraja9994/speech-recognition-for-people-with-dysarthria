{
 "metadata": {
  "language_info": {
   "codemirror_mode": {
    "name": "ipython",
    "version": 3
   },
   "file_extension": ".py",
   "mimetype": "text/x-python",
   "name": "python",
   "nbconvert_exporter": "python",
   "pygments_lexer": "ipython3",
   "version": "3.8.3-final"
  },
  "orig_nbformat": 2,
  "kernelspec": {
   "name": "python3",
   "display_name": "Python 3.8.3 64-bit",
   "metadata": {
    "interpreter": {
     "hash": "cfc4dac7468c084d307aa08ac9296834a0ec3041907b428597ed5d5794ddbf16"
    }
   }
  }
 },
 "nbformat": 4,
 "nbformat_minor": 2,
 "cells": [
  {
   "source": [
    "# LABELS"
   ],
   "cell_type": "markdown",
   "metadata": {}
  },
  {
   "cell_type": "code",
   "execution_count": null,
   "metadata": {},
   "outputs": [],
   "source": [
    "import os\n",
    "import re"
   ]
  },
  {
   "cell_type": "code",
   "execution_count": null,
   "metadata": {},
   "outputs": [],
   "source": [
    "dataSetMLF_FilesPath=r'E:\\UAspeesh dataset\\mlf'\n",
    "dataSetMLF_FilesName=[file for file in os.listdir(dataSetMLF_FilesPath)if file.endswith('.mlf')]"
   ]
  },
  {
   "cell_type": "code",
   "execution_count": null,
   "metadata": {},
   "outputs": [],
   "source": [
    "dataSetTxtFilesPath=r'C:\\Users\\Ahmed Salah\\Desktop\\files'\n",
    "dataSetTxtFilesName=[file for file in os.listdir(dataSetTxtFilesPath)if file.endswith('.txt')]"
   ]
  },
  {
   "cell_type": "code",
   "execution_count": null,
   "metadata": {},
   "outputs": [],
   "source": [
    "dataSetMLF_FilesName"
   ]
  },
  {
   "cell_type": "code",
   "execution_count": null,
   "metadata": {},
   "outputs": [],
   "source": [
    "dataSetTxtFilesName"
   ]
  },
  {
   "source": [
    "## Convert MLF Files To one Dict {FileName:Word}"
   ],
   "cell_type": "markdown",
   "metadata": {}
  },
  {
   "cell_type": "code",
   "execution_count": null,
   "metadata": {},
   "outputs": [],
   "source": [
    "def convertFromMlfToText(mlf_files,dataSetMLF_FilesPath):\n",
    "    allmlf_FilesInDict,errorReadMlfFiles={},[]\n",
    "    for mlf_File in mlf_files:\n",
    "        try: \n",
    "            with open(dataSetMLF_FilesPath+'\\\\'+mlf_File,mode='r',encoding='utf-8') as mlf_FileBuffer:\n",
    "                mlf_FileBufferWords=mlf_FileBuffer.readlines()\n",
    "            CounterOfmlf_FileBufferWords=0\n",
    "            for line in mlf_FileBufferWords:\n",
    "                CounterOfmlf_FileBufferWords+=1\n",
    "                if re.match(r'\"\\*/\\w+.lab\"',line):\n",
    "                    allmlf_FilesInDict[re.sub('.lab','.wav',re.sub('\"\\n','',re.sub(r'\"\\*/','',line)))]=mlf_FileBufferWords[CounterOfmlf_FileBufferWords]\n",
    "        except:\n",
    "            errorReadMlfFiles.append(mlf_File)\n",
    "\n",
    "    return allmlf_FilesInDict,errorReadMlfFiles"
   ]
  },
  {
   "source": [
    "%%time\n",
    "allmlf_FilesInDict,errorReadMlfFiles=convertFromMlfToText(dataSetMLF_FilesName,dataSetMLF_FilesPath)"
   ],
   "cell_type": "code",
   "metadata": {},
   "execution_count": null,
   "outputs": []
  },
  {
   "cell_type": "code",
   "execution_count": null,
   "metadata": {},
   "outputs": [],
   "source": [
    "print(len(allmlf_FilesInDict))\n",
    "print(len(errorReadMlfFiles))"
   ]
  },
  {
   "source": [
    "## convert all mlf files to one txt file as Dict (file:word)"
   ],
   "cell_type": "markdown",
   "metadata": {}
  },
  {
   "cell_type": "code",
   "execution_count": null,
   "metadata": {},
   "outputs": [],
   "source": [
    "def convertDictToFile(Dict,nameOfFile): \n",
    "    if not os.path.isdir('files'):\n",
    "        os.mkdir('files')\n",
    "    with open('files/'+nameOfFile+'.txt','w') as newLabelFile:\n",
    "            for key in Dict:\n",
    "                newLabelFile.writelines(key+':'+Dict[key].strip()+'\\n')"
   ]
  },
  {
   "cell_type": "code",
   "execution_count": null,
   "metadata": {},
   "outputs": [],
   "source": [
    "convertDictToFile(allmlf_FilesInDict,'labels')"
   ]
  },
  {
   "source": [
    "## Read From Text file {FileName:Word}"
   ],
   "cell_type": "markdown",
   "metadata": {}
  },
  {
   "cell_type": "code",
   "execution_count": null,
   "metadata": {},
   "outputs": [],
   "source": [
    "def readLabelsFromTextFileAsDict(labelsFiles,DataSetPath):\n",
    "    allLabelsFilesAsDict,errorReadLabelFiles={},[]\n",
    "    for File in labelsFiles:\n",
    "        try:\n",
    "            with open(DataSetPath+'\\\\'+File,mode='r') as labelsFile:\n",
    "                for line in sorted(labelsFile.read().split('\\n')):\n",
    "                    line=line.split(':')\n",
    "                    allLabelsFilesAsDict[line[0]]=line[-1]\n",
    "        except:\n",
    "            errorReadLabelFiles.append(File)\n",
    "    return allLabelsFilesAsDict,errorReadLabelFiles\n",
    "    "
   ]
  },
  {
   "cell_type": "code",
   "execution_count": null,
   "metadata": {},
   "outputs": [],
   "source": [
    "%%time\n",
    "allLabelsFilesAsDict,errorReadLabelFiles=readLabelsFromTextFileAsDict(dataSetTxtFilesName,dataSetTxtFilesPath)"
   ]
  },
  {
   "cell_type": "code",
   "execution_count": null,
   "metadata": {},
   "outputs": [],
   "source": [
    "print(len(allLabelsFilesAsDict))\n",
    "print(len(errorReadLabelFiles))"
   ]
  },
  {
   "source": [
    "## Convert MLF Files To Multi TXT Files (107100) in Folder (files)"
   ],
   "cell_type": "markdown",
   "metadata": {}
  },
  {
   "cell_type": "code",
   "execution_count": null,
   "metadata": {},
   "outputs": [],
   "source": [
    "def convertFromMlfToTxtFiles(dataSetMLF_Files,dataSetMLF_FilesPath):\n",
    "    if not os.path.isdir('files'):\n",
    "        os.mkdir('files')\n",
    "    ErrorFileNameInLineDict={}\n",
    "    for mlf_File in dataSetMLF_Files: \n",
    "        with open(dataSetMLF_FilesPath+'\\\\'+mlf_File,mode='r',encoding='utf-8') as mlf_FileBuffer:\n",
    "            mlf_FileBufferWords=mlf_FileBuffer.readlines()\n",
    "        CounterOfmlf_FileBufferWords=0\n",
    "        for line in mlf_FileBufferWords:\n",
    "            CounterOfmlf_FileBufferWords+=1\n",
    "            if re.match(r'\"\\*/\\w+.lab\"',line):\n",
    "                try:\n",
    "                    with open('files/'+re.sub('.lab\"\\n','',re.sub(r'\"\\*/','',line))+'.txt','w') as WordFile:\n",
    "                        WordFile.write(mlf_FileBufferWords[CounterOfmlf_FileBufferWords])\n",
    "                except:\n",
    "                    ErrorFileNameInLineDict[mlf_File+line]=CounterOfmlf_FileBufferWords\n",
    "    return ErrorFileNameInLineDict\n"
   ]
  },
  {
   "source": [
    "## Print If There Erorr OR Not "
   ],
   "cell_type": "markdown",
   "metadata": {}
  },
  {
   "cell_type": "code",
   "execution_count": null,
   "metadata": {},
   "outputs": [],
   "source": [
    "print(ErrorFileNameInLineDict)"
   ]
  },
  {
   "source": [
    "# AUDIO"
   ],
   "cell_type": "markdown",
   "metadata": {}
  },
  {
   "cell_type": "code",
   "execution_count": null,
   "metadata": {},
   "outputs": [],
   "source": [
    "import os\n",
    "dataSetMainFilesOfDataPath=r'G:\\UASpeech\\audio' #edit path\n",
    "dataSetMainFilesOfDataName=[folder for folder in os.listdir(dataSetMainFilesOfDataPath)if folder.endswith('_audio')] #to get only Folders"
   ]
  },
  {
   "cell_type": "code",
   "execution_count": null,
   "metadata": {},
   "outputs": [],
   "source": [
    "print(dataSetMainFilesOfDataName) # all Main Files in dataset"
   ]
  },
  {
   "source": [
    "## get All Audio Files Paths"
   ],
   "cell_type": "markdown",
   "metadata": {}
  },
  {
   "cell_type": "code",
   "execution_count": null,
   "metadata": {},
   "outputs": [],
   "source": [
    "def getAudioFilesPath(DatasetPath,dataSetMainFiles):\n",
    "    dataSetAudioFilesPaths=[]\n",
    "    for mainFile in dataSetMainFiles:#main Files as CF02\n",
    "        for mainFileChiled in sorted(os.listdir(DatasetPath+'\\\\'+mainFile)):#git records in every main file \n",
    "            if mainFileChiled.endswith('.wav'):\n",
    "                dataSetAudioFilesPaths.append(DatasetPath+'\\\\'+mainFile+'\\\\'+mainFileChiled)#append Path of file .wav\n",
    "    return dataSetAudioFilesPaths\n"
   ]
  },
  {
   "cell_type": "code",
   "execution_count": null,
   "metadata": {},
   "outputs": [],
   "source": [
    "%%time\n",
    "dataSetAudioFilesPaths=getAudioFilesPath(dataSetMainFilesOfDataPath,dataSetMainFilesOfDataName)"
   ]
  },
  {
   "cell_type": "code",
   "execution_count": null,
   "metadata": {
    "tags": []
   },
   "outputs": [],
   "source": [
    "print(len(dataSetAudioFilesPaths))\n",
    "print(dataSetAudioFilesPaths[0])\n",
    "print(dataSetAudioFilesPaths[-1])\n"
   ]
  },
  {
   "source": [
    "## Delete All Audio Files That Haven't Label"
   ],
   "cell_type": "markdown",
   "metadata": {}
  },
  {
   "cell_type": "code",
   "execution_count": null,
   "metadata": {},
   "outputs": [],
   "source": [
    "def deleteAudioFilesWithoutLabel(dataSetAudioFilesPaths,allLabelsFilesAsDict):\n",
    "    audioFilesHadDeleted=[]\n",
    "    dataSetAudioFilesPathsCopy=dataSetAudioFilesPaths.copy()\n",
    "    ErrorRemovedFile=[]\n",
    "    for audioFilePath in dataSetAudioFilesPaths:\n",
    "        if audioFileName not in allLabelsFilesAsDict:\n",
    "            try:\n",
    "                audioFilesHadDeleted.append(audioFilePath)\n",
    "                os.remove(audioFilePath)\n",
    "                dataSetAudioFilesPathsCopy.remove(audioFilePath)\n",
    "            except:\n",
    "                ErrorRemovedFile.append(audioFilePath)\n",
    "    return dataSetAudioFilesPathsCopy,audioFilesHadDeleted,ErrorRemovedFile"
   ]
  },
  {
   "cell_type": "code",
   "execution_count": null,
   "metadata": {},
   "outputs": [],
   "source": [
    "%%time\n",
    "dataSetAudioFilesPaths,audioFilesHadDeleted,ErrorRemovedFile=deleteAudioFilesWithoutLabel(dataSetAudioFilesPaths,allLabelsFilesAsDict)"
   ]
  },
  {
   "cell_type": "code",
   "execution_count": null,
   "metadata": {
    "tags": []
   },
   "outputs": [],
   "source": [
    "print(len(dataSetAudioFilesPaths)) #all paths after update\n",
    "print(len(audioFilesHadDeleted)) #if there file had remove\n",
    "print(len(ErrorRemovedFile)) #if there file have error and didn't remove"
   ]
  },
  {
   "source": [
    "## Delete All labels That Haven't Audio File"
   ],
   "cell_type": "markdown",
   "metadata": {}
  },
  {
   "cell_type": "code",
   "execution_count": null,
   "metadata": {},
   "outputs": [],
   "source": [
    "def deleteLabelWithoutAudio(allLabelsFilesAsDict,dataSetAudioFilesPaths):\n",
    "    labelLinesHadDeleted=[]\n",
    "    dataSetAudioFilesNames=[audioFileName.split('\\\\')[-1] for audioFileName in dataSetAudioFilesPaths ]\n",
    "    allLabelsFilesAsDictCopy=allLabelsFilesAsDict.copy()\n",
    "    for mlf_FileWord in allLabelsFilesAsDict:\n",
    "        if mlf_FileWord not in dataSetAudioFilesNames:\n",
    "            labelLinesHadDeleted.append(mlf_FileWord)\n",
    "            allLabelsFilesAsDictCopy.pop(mlf_FileWord)\n",
    "    del(dataSetAudioFilesNames)\n",
    "    return allLabelsFilesAsDictCopy,labelLinesHadDeleted"
   ]
  },
  {
   "cell_type": "code",
   "execution_count": null,
   "metadata": {},
   "outputs": [],
   "source": [
    "%%time\n",
    "allLabelsFilesAsDict,labelLinesHadDeleted=deleteLabelWithoutAudio(allLabelsFilesAsDict,dataSetAudioFilesPaths)"
   ]
  },
  {
   "cell_type": "code",
   "execution_count": null,
   "metadata": {},
   "outputs": [],
   "source": [
    "print(len(allLabelsFilesAsDict)) # labels after update\n",
    "print(len(labelLinesHadDeleted)) #lines that deleted"
   ]
  },
  {
   "cell_type": "code",
   "execution_count": null,
   "metadata": {},
   "outputs": [],
   "source": [
    "convertDictToFile(allLabelsFilesAsDict,'labels') #convert labels Dict to file after update"
   ]
  },
  {
   "source": [
    "# Rename "
   ],
   "cell_type": "markdown",
   "metadata": {}
  },
  {
   "cell_type": "code",
   "execution_count": null,
   "metadata": {},
   "outputs": [],
   "source": [
    "import re\n",
    "def renameAllFiles(DatasetPath,dataSetMainFiles,LabelsFilesAsDict):\n",
    "    newLabelsDict,formOldeToNew,errorRenameFile={},{},[]\n",
    "    for mainFile in dataSetMainFiles:#main Files as CF02\n",
    "        audioNumber=0\n",
    "        for mainFileChiled in os.listdir(DatasetPath+'\\\\'+mainFile):#git records in every main file \n",
    "            if mainFileChiled.endswith('.wav'):\n",
    "                audioNumber+=1\n",
    "                newText=re.sub('_audio','_',mainFile)\n",
    "                for zeros in range((4-len(str(audioNumber)))):\n",
    "                    newText+='0'\n",
    "                newFileName=newText+ str(audioNumber) + '.wav'\n",
    "                oldFilePath=( DatasetPath+'\\\\'+mainFile+'\\\\'+mainFileChiled)\n",
    "                newFilePath=( DatasetPath+'\\\\'+mainFile+'\\\\'+newFileName)\n",
    "                newLabelsDict[newFileName]=LabelsFilesAsDict[mainFileChiled]\n",
    "                formOldeToNew[mainFileChiled]=newFileName\n",
    "                try:\n",
    "                    os.rename(oldFilePath,newFilePath)\n",
    "                    print(mainFileChiled)\n",
    "                except:\n",
    "                    errorRenameFile.append(mainFileChiled)\n",
    "    return newLabelsDict,formOldeToNew,errorRenameFile\n",
    "                "
   ]
  },
  {
   "cell_type": "code",
   "execution_count": null,
   "metadata": {
    "tags": [
     "outputPrepend"
    ]
   },
   "outputs": [],
   "source": [
    "%%time\n",
    "allLabelsFilesAsDict,formOldeToNew,errorRenameFile=renameAllFiles(dataSetMainFilesOfDataPath,dataSetMainFilesOfDataName,allLabelsFilesAsDict)"
   ]
  },
  {
   "cell_type": "code",
   "execution_count": null,
   "metadata": {},
   "outputs": [],
   "source": [
    "print(len(errorRenameFile))\n"
   ]
  },
  {
   "cell_type": "code",
   "execution_count": null,
   "metadata": {},
   "outputs": [],
   "source": [
    "convertDictToFile(allLabelsFilesAsDict,'labels')\n",
    "convertDictToFile(formOldeToNew,'formOldeToNew')\n"
   ]
  }
 ]
}