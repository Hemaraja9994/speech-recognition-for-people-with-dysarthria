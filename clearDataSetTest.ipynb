{
 "metadata": {
  "language_info": {
   "codemirror_mode": {
    "name": "ipython",
    "version": 3
   },
   "file_extension": ".py",
   "mimetype": "text/x-python",
   "name": "python",
   "nbconvert_exporter": "python",
   "pygments_lexer": "ipython3",
   "version": "3.8.3-final"
  },
  "orig_nbformat": 2,
  "kernelspec": {
   "name": "python3",
   "display_name": "Python 3.8.3 64-bit",
   "metadata": {
    "interpreter": {
     "hash": "cfc4dac7468c084d307aa08ac9296834a0ec3041907b428597ed5d5794ddbf16"
    }
   }
  }
 },
 "nbformat": 4,
 "nbformat_minor": 2,
 "cells": [
  {
   "source": [
    "# LABELS"
   ],
   "cell_type": "markdown",
   "metadata": {}
  },
  {
   "cell_type": "code",
   "execution_count": 3,
   "metadata": {},
   "outputs": [],
   "source": [
    "import os\n",
    "import re\n",
    "UASpeechMLF_FilesPath=r'E:\\UAspeesh dataset\\mlf'\n",
    "UASpeechMLF_FilesName=[file for file in os.listdir(UASpeechMLF_FilesPath)if file.endswith('.mlf')]"
   ]
  },
  {
   "source": [
    "## Convert MLF Files To Multi TXT Files (107100) in Folder (files)"
   ],
   "cell_type": "markdown",
   "metadata": {}
  },
  {
   "cell_type": "code",
   "execution_count": 6,
   "metadata": {},
   "outputs": [],
   "source": [
    "if not os.path.isdir('files'):\n",
    "    os.mkdir('files')\n",
    "ErrorFileNameInLineDict={}\n",
    "for mlf_File in UASpeechMLF_FilesName: \n",
    "    with open(UASpeechMLF_FilesPath+'\\\\'+mlf_File,mode='r',encoding='utf-8') as mlf_FileBuffer:\n",
    "        mlf_FileBufferWords=mlf_FileBuffer.readlines()\n",
    "    CounterOfmlf_FileBufferWords=0\n",
    "    for line in mlf_FileBufferWords:\n",
    "        CounterOfmlf_FileBufferWords+=1\n",
    "        if re.match(r'\"\\*/\\w+.lab\"',line):\n",
    "            try:\n",
    "                with open('files/'+re.sub('.lab\"\\n','',re.sub(r'\"\\*/','',line))+'.txt','w') as WordFile:\n",
    "                    WordFile.write(mlf_FileBufferWords[CounterOfmlf_FileBufferWords])\n",
    "            except:\n",
    "                ErrorFileNameInLineDict[mlf_File+line]=CounterOfmlf_FileBufferWords\n"
   ]
  },
  {
   "source": [
    "## Print If There Erorr OR Not "
   ],
   "cell_type": "markdown",
   "metadata": {}
  },
  {
   "cell_type": "code",
   "execution_count": 8,
   "metadata": {},
   "outputs": [
    {
     "output_type": "stream",
     "name": "stdout",
     "text": [
      "{}\n"
     ]
    }
   ],
   "source": [
    "print(ErrorFileNameInLineDict)"
   ]
  },
  {
   "source": [
    "## Convert MLF Files To one Dict {FileName:Word}"
   ],
   "cell_type": "markdown",
   "metadata": {}
  },
  {
   "cell_type": "code",
   "execution_count": 4,
   "metadata": {},
   "outputs": [],
   "source": [
    "allmlf_FilesWordsInDict={}\n",
    "for mlf_File in UASpeechMLF_FilesName: \n",
    "    with open(UASpeechMLF_FilesPath+'\\\\'+mlf_File,mode='r',encoding='utf-8') as mlf_FileBuffer:\n",
    "        mlf_FileBufferWords=mlf_FileBuffer.readlines()\n",
    "    CounterOfmlf_FileBufferWords=0\n",
    "    for line in mlf_FileBufferWords:\n",
    "        CounterOfmlf_FileBufferWords+=1\n",
    "        if re.match(r'\"\\*/\\w+.lab\"',line):\n",
    "            allmlf_FilesWordsInDict[re.sub('\"\\n','',re.sub(r'\"\\*/','',line))]=mlf_FileBufferWords[CounterOfmlf_FileBufferWords]"
   ]
  },
  {
   "source": [
    "## convert all mlf files to one txt file as Dict (file:word)"
   ],
   "cell_type": "markdown",
   "metadata": {}
  },
  {
   "cell_type": "code",
   "execution_count": 7,
   "metadata": {},
   "outputs": [],
   "source": [
    "if not os.path.isdir('files'):\n",
    "    os.mkdir('files')\n",
    "with open('files/labels.txt','w') as newLabelFile:\n",
    "        for mlf_file in allmlf_FilesWordsInDict:\n",
    "            newLabelFile.writelines(mlf_file+':'+allmlf_FilesWordsInDict[mlf_file])"
   ]
  },
  {
   "source": [
    "## convert Values Of Dict Files to lists"
   ],
   "cell_type": "markdown",
   "metadata": {}
  },
  {
   "cell_type": "code",
   "execution_count": null,
   "metadata": {},
   "outputs": [],
   "source": [
    "print(len(allmlf_FilesWordsInDict))\n",
    "wordsInmlf_FilesInList=list(allmlf_FilesWordsInDict.values())\n",
    "audioFilesNameInList=list(allmlf_FilesWordsInDict.keys())"
   ]
  },
  {
   "source": [
    "# AUDIO"
   ],
   "cell_type": "markdown",
   "metadata": {}
  },
  {
   "cell_type": "code",
   "execution_count": 26,
   "metadata": {},
   "outputs": [],
   "source": [
    "import os\n",
    "UASpeechMainFilesOfDataPath=r'E:\\UAspeesh dataset\\audio' #edit path\n",
    "UASpeechMainFilesOfDataName=[folder for folder in os.listdir(UASpeechMainFilesOfDataPath)if os.path.isdir(UASpeechMainFilesOfDataPath+'\\\\'+folder)] #to get only Folders"
   ]
  },
  {
   "cell_type": "code",
   "execution_count": 27,
   "metadata": {},
   "outputs": [
    {
     "output_type": "stream",
     "name": "stdout",
     "text": [
      "['CF02', 'CF03', 'CF04', 'CM04', 'CM05', 'CM06', 'CM08', 'CM09', 'CM10', 'CM12', 'CM13', 'contro', 'F02', 'F03', 'F04', 'M01', 'M04', 'M05', 'M06', 'M07', 'M08', 'M09', 'M10', 'M11', 'M12', 'M13', 'M14', 'M15', 'M16']\n"
     ]
    }
   ],
   "source": [
    "print(UASpeechMainFilesOfDataName)"
   ]
  },
  {
   "cell_type": "code",
   "execution_count": 32,
   "metadata": {},
   "outputs": [
    {
     "output_type": "stream",
     "name": "stdout",
     "text": [
      "CF02_word.mlf\nF1_S1_0001.wav\nindex.html\nindex.html@C=D;O=A\nindex.html@C=D;O=D\nindex.html@C=M;O=A\nindex.html@C=M;O=D\nindex.html@C=N;O=A\nindex.html@C=N;O=D\nindex.html@C=S;O=A\nindex.html@C=S;O=D\nCF03_word.mlf\nindex.html\nindex.html@C=D;O=A\nindex.html@C=D;O=D\nindex.html@C=M;O=A\nindex.html@C=M;O=D\nindex.html@C=N;O=A\nindex.html@C=N;O=D\nindex.html@C=S;O=A\nindex.html@C=S;O=D\nCF04_word.mlf\nindex.html\nindex.html@C=D;O=A\nindex.html@C=D;O=D\nindex.html@C=M;O=A\nindex.html@C=M;O=D\nindex.html@C=N;O=A\nindex.html@C=N;O=D\nindex.html@C=S;O=A\nindex.html@C=S;O=D\nCM04_word.mlf\nindex.html\nindex.html@C=D;O=A\nindex.html@C=D;O=D\nindex.html@C=M;O=A\nindex.html@C=M;O=D\nindex.html@C=N;O=A\nindex.html@C=N;O=D\nindex.html@C=S;O=A\nindex.html@C=S;O=D\nCM05_word.mlf\nindex.html\nindex.html@C=D;O=A\nindex.html@C=D;O=D\nindex.html@C=M;O=A\nindex.html@C=M;O=D\nindex.html@C=N;O=A\nindex.html@C=N;O=D\nindex.html@C=S;O=A\nindex.html@C=S;O=D\nCM06_word.mlf\nindex.html\nindex.html@C=D;O=A\nindex.html@C=D;O=D\nindex.html@C=M;O=A\nindex.html@C=M;O=D\nindex.html@C=N;O=A\nindex.html@C=N;O=D\nindex.html@C=S;O=A\nindex.html@C=S;O=D\nCM08_word.mlf\nindex.html\nindex.html@C=D;O=A\nindex.html@C=D;O=D\nindex.html@C=M;O=A\nindex.html@C=M;O=D\nindex.html@C=N;O=A\nindex.html@C=N;O=D\nindex.html@C=S;O=A\nindex.html@C=S;O=D\nCM09_word.mlf\nindex.html\nindex.html@C=D;O=A\nindex.html@C=D;O=D\nindex.html@C=M;O=A\nindex.html@C=M;O=D\nindex.html@C=N;O=A\nindex.html@C=N;O=D\nindex.html@C=S;O=A\nindex.html@C=S;O=D\nCM10_word.mlf\nindex.html\nindex.html@C=D;O=A\nindex.html@C=D;O=D\nindex.html@C=M;O=A\nindex.html@C=M;O=D\nindex.html@C=N;O=A\nindex.html@C=N;O=D\nindex.html@C=S;O=A\nindex.html@C=S;O=D\nCM12_word.mlf\nindex.html\nindex.html@C=D;O=A\nindex.html@C=D;O=D\nindex.html@C=M;O=A\nindex.html@C=M;O=D\nindex.html@C=N;O=A\nindex.html@C=N;O=D\nindex.html@C=S;O=A\nindex.html@C=S;O=D\nCM13_word.mlf\nindex.html\nindex.html@C=D;O=A\nindex.html@C=D;O=D\nindex.html@C=M;O=A\nindex.html@C=M;O=D\nindex.html@C=N;O=A\nindex.html@C=N;O=D\nindex.html@C=S;O=A\nindex.html@C=S;O=D\nF02_word.mlf\nindex.html\nindex.html@C=D;O=A\nindex.html@C=D;O=D\nindex.html@C=M;O=A\nindex.html@C=M;O=D\nindex.html@C=N;O=A\nindex.html@C=N;O=D\nindex.html@C=S;O=A\nindex.html@C=S;O=D\nF03_word.mlf\nindex.html\nindex.html@C=D;O=A\nindex.html@C=D;O=D\nindex.html@C=M;O=A\nindex.html@C=M;O=D\nindex.html@C=N;O=A\nindex.html@C=N;O=D\nindex.html@C=S;O=A\nindex.html@C=S;O=D\nF04_word.mlf\nindex.html\nindex.html@C=D;O=A\nindex.html@C=D;O=D\nindex.html@C=M;O=A\nindex.html@C=M;O=D\nindex.html@C=N;O=A\nindex.html@C=N;O=D\nindex.html@C=S;O=A\nindex.html@C=S;O=D\nindex.html\nindex.html@C=D;O=A\nindex.html@C=D;O=D\nindex.html@C=M;O=A\nindex.html@C=M;O=D\nindex.html@C=N;O=A\nindex.html@C=N;O=D\nindex.html@C=S;O=A\nindex.html@C=S;O=D\nM01_word.mlf\nindex.html\nM04_word.mlf\nindex.html\nM05_word.mlf\nindex.html\nindex.html@C=D;O=A\nindex.html@C=D;O=D\nindex.html@C=M;O=A\nindex.html@C=M;O=D\nindex.html@C=N;O=A\nindex.html@C=N;O=D\nindex.html@C=S;O=A\nindex.html@C=S;O=D\nM06_word.mlf\nindex.html\nindex.html@C=D;O=A\nindex.html@C=D;O=D\nindex.html@C=M;O=A\nindex.html@C=M;O=D\nindex.html@C=N;O=A\nindex.html@C=N;O=D\nindex.html@C=S;O=A\nindex.html@C=S;O=D\nM07_word.mlf\nindex.html\nindex.html@C=D;O=A\nindex.html@C=D;O=D\nindex.html@C=M;O=A\nindex.html@C=M;O=D\nindex.html@C=N;O=A\nindex.html@C=N;O=D\nindex.html@C=S;O=A\nindex.html@C=S;O=D\nM08_word.mlf\nindex.html\nindex.html@C=D;O=A\nindex.html@C=D;O=D\nindex.html@C=M;O=A\nindex.html@C=M;O=D\nindex.html@C=N;O=A\nindex.html@C=N;O=D\nindex.html@C=S;O=A\nindex.html@C=S;O=D\nM09_word.mlf\nindex.html\nindex.html@C=D;O=A\nindex.html@C=D;O=D\nindex.html@C=M;O=A\nindex.html@C=M;O=D\nindex.html@C=N;O=A\nindex.html@C=N;O=D\nindex.html@C=S;O=A\nindex.html@C=S;O=D\nM10_word.mlf\nindex.html\nindex.html@C=D;O=A\nindex.html@C=D;O=D\nindex.html@C=M;O=A\nindex.html@C=M;O=D\nindex.html@C=N;O=A\nindex.html@C=N;O=D\nindex.html@C=S;O=A\nindex.html@C=S;O=D\nM11_word.mlf\nindex.html\nindex.html@C=D;O=A\nindex.html@C=D;O=D\nindex.html@C=M;O=A\nindex.html@C=M;O=D\nindex.html@C=N;O=A\nindex.html@C=N;O=D\nindex.html@C=S;O=A\nindex.html@C=S;O=D\nM12_word.mlf\nindex.html\nindex.html@C=D;O=A\nindex.html@C=D;O=D\nindex.html@C=M;O=A\nindex.html@C=M;O=D\nindex.html@C=N;O=A\nindex.html@C=N;O=D\nindex.html@C=S;O=A\nindex.html@C=S;O=D\nM13_word.mlf\nindex.html\nindex.html@C=D;O=A\nindex.html@C=D;O=D\nindex.html@C=M;O=A\nindex.html@C=M;O=D\nindex.html@C=N;O=A\nindex.html@C=N;O=D\nindex.html@C=S;O=A\nindex.html@C=S;O=D\nM14_word.mlf\nindex.html\nindex.html@C=D;O=A\nindex.html@C=D;O=D\nindex.html@C=M;O=A\nindex.html@C=M;O=D\nindex.html@C=N;O=A\nindex.html@C=N;O=D\nindex.html@C=S;O=A\nindex.html@C=S;O=D\nM15_word.mlf\nindex.html\nindex.html@C=D;O=A\nindex.html@C=D;O=D\nindex.html@C=M;O=A\nindex.html@C=M;O=D\nindex.html@C=N;O=A\nindex.html@C=N;O=D\nindex.html@C=S;O=A\nindex.html@C=S;O=D\nM16_aligned_phones.mlf\nM16_word.mlf\n"
     ]
    }
   ],
   "source": [
    "UASpeechDataFilesPaths=[]\n",
    "for mainFile in UASpeechMainFilesOfDataName:#main Files as CF02\n",
    "    for mainFileChiled in os.listdir(UASpeechMainFilesOfDataPath+'\\\\'+mainFile):#git records in every main file \n",
    "        if not os.path.isdir(UASpeechMainFilesOfDataPath+'\\\\'+mainFile+'\\\\'+mainFileChiled):#check if it file or Folder(control)\n",
    "            print(mainFileChiled)\n",
    "            if mainFileChiled.endswith('.wav'):\n",
    "                UASpeechDataFilesPaths.append(UASpeechMainFilesOfDataPath+'\\\\'+mainFile+'\\\\'+mainFileChiled)#append Path of file .wav \n",
    "        else:\n",
    "            for mainFileLeaf in os.listdir(UASpeechMainFilesOfDataPath+'\\\\'+mainFile+'\\\\'+mainFileChiled): #if main folder have folder then data \n",
    "                if not os.path.isdir(UASpeechMainFilesOfDataPath+'\\\\'+mainFile+'\\\\'+mainFileChiled+'\\\\'+mainFileLeaf):#check if it file or another Folder              \n",
    "                    if mainFileLeaf.endswith('.wav'):\n",
    "                        UASpeechDataFilesPaths.append(UASpeechMainFilesOfDataPath+'\\\\'+mainFile+'\\\\'+mainFileChiled+'\\\\'+mainFileLeaf)"
   ]
  },
  {
   "cell_type": "code",
   "execution_count": 33,
   "metadata": {},
   "outputs": [
    {
     "output_type": "execute_result",
     "data": {
      "text/plain": [
       "['E:\\\\UAspeesh dataset\\\\mlf\\\\CF02\\\\F1_S1_0001.wav',\n",
       " 'E:\\\\UAspeesh dataset\\\\mlf\\\\contro\\\\CF02\\\\F1_S1_0001.wav']"
      ]
     },
     "metadata": {},
     "execution_count": 33
    }
   ],
   "source": [
    "UASpeechDataFilesPaths"
   ]
  },
  {
   "source": [
    "# Extract features form waves"
   ],
   "cell_type": "markdown",
   "metadata": {}
  }
 ]
}