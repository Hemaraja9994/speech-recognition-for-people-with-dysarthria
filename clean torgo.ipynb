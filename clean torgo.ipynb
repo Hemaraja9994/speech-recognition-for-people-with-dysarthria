{
 "metadata": {
  "language_info": {
   "codemirror_mode": {
    "name": "ipython",
    "version": 3
   },
   "file_extension": ".py",
   "mimetype": "text/x-python",
   "name": "python",
   "nbconvert_exporter": "python",
   "pygments_lexer": "ipython3",
   "version": "3.8.3"
  },
  "orig_nbformat": 4,
  "kernelspec": {
   "name": "python3",
   "display_name": "Python 3.8.3 64-bit"
  },
  "interpreter": {
   "hash": "cfc4dac7468c084d307aa08ac9296834a0ec3041907b428597ed5d5794ddbf16"
  }
 },
 "nbformat": 4,
 "nbformat_minor": 2,
 "cells": [
  {
   "cell_type": "code",
   "execution_count": 10,
   "metadata": {},
   "outputs": [],
   "source": [
    "torgo_data=r\"G:\\data and labels clean and collect\"\n",
    "import os\n",
    "import re"
   ]
  },
  {
   "cell_type": "code",
   "execution_count": 2,
   "metadata": {},
   "outputs": [],
   "source": [
    "def readDataSetFiles(DataSetPath,labels=True,mark='\\\\'):\n",
    "    allFilesInPath=sorted(os.listdir(DataSetPath))\n",
    "    dataSetAllMainFolders=[File for File in allFilesInPath if os.path.isdir(DataSetPath+mark+File) ]  #[f_audio,f_label,m_audio,m_label]\n",
    "    allDataFilesInDataSetPaths =[DataSetPath +mark + Folder+mark+File for Folder in dataSetAllMainFolders for File in sorted(os.listdir(DataSetPath +mark + Folder)) if re.search('_audio',Folder)] #get all wav files in one list\n",
    "    if labels:\n",
    "        allLabelFilesInDataSetPaths=[DataSetPath +mark+ Folder+mark+File for Folder in dataSetAllMainFolders for File in sorted(os.listdir(DataSetPath + mark + Folder)) if re.search('_label',Folder)] #get all txt files in one list\n",
    "    else:allLabelFilesInDataSetPaths=[]\n",
    "    del(dataSetAllMainFolders)\n",
    "    return allDataFilesInDataSetPaths,allLabelFilesInDataSetPaths\n"
   ]
  },
  {
   "cell_type": "code",
   "execution_count": 8,
   "metadata": {},
   "outputs": [],
   "source": [
    "allDataFilesInDataSetPaths,allLabelFilesInDataSetPaths=readDataSetFiles(torgo_data,labels=True,mark='/')"
   ]
  },
  {
   "cell_type": "code",
   "execution_count": 9,
   "metadata": {},
   "outputs": [
    {
     "output_type": "stream",
     "name": "stdout",
     "text": [
      "9433\n9433\nfirst data file ['G:\\\\data and labels clean and collect/f_audio/F1_S1_0001.wav'] last data file ['G:\\\\data and labels clean and collect/m_audio/MC4_S2_1027.wav']\nfirst label file ['G:\\\\data and labels clean and collect/f_label/F1_S1_0001.txt'] last label file ['G:\\\\data and labels clean and collect/m_label/MC4_S2_1027.txt']\n"
     ]
    }
   ],
   "source": [
    "print(len(allDataFilesInDataSetPaths))\n",
    "print(len(allLabelFilesInDataSetPaths))\n",
    "print('first data file',allDataFilesInDataSetPaths[:1],'last data file',allDataFilesInDataSetPaths[-1:])\n",
    "print('first label file',allLabelFilesInDataSetPaths[:1],'last label file',allLabelFilesInDataSetPaths[-1:])"
   ]
  },
  {
   "cell_type": "code",
   "execution_count": 23,
   "metadata": {},
   "outputs": [],
   "source": [
    "def readLabelsLinesFromTxt(labelsFiles,torgo=False):\n",
    "    errorReadLabelTxtFile,allLabelsInData=[],[]\n",
    "    for labelsFileName in labelsFiles:\n",
    "        try:\n",
    "            with open(labelsFileName,'r',encoding='utf-8') as labelTxtFile:\n",
    "                if torgo:\n",
    "                    allLabelsInData.append(labelTxtFile.readline().strip())\n",
    "                else:\n",
    "                    allLabelsInData=sorted(labelTxtFile.readlines())\n",
    "                    allLabelsInData=[line.split(':')[-1].strip() for line in allLabelsInData]\n",
    "        except:\n",
    "            errorReadLabelTxtFile.append(labelsFileName)\n",
    "    return allLabelsInData,errorReadLabelTxtFile"
   ]
  },
  {
   "cell_type": "code",
   "execution_count": 14,
   "metadata": {},
   "outputs": [
    {
     "output_type": "stream",
     "name": "stdout",
     "text": [
      "Wall time: 1.61 s\n"
     ]
    }
   ],
   "source": [
    "%%time\n",
    "allLabelsInData,errorReadLabelTxtFile=readLabelsLinesFromTxt(allLabelFilesInDataSetPaths,torgo=True)"
   ]
  },
  {
   "cell_type": "code",
   "execution_count": 15,
   "metadata": {},
   "outputs": [
    {
     "output_type": "stream",
     "name": "stdout",
     "text": [
      "9433\n0\n['[say Ah-P-Eee repeatedly]', '[say Ah-P-Eee repeatedly]', '[say Pah-Tah-Kah repeatedly]', '[say Eee-P-Ah repeatedly]', '[relax your mouth in its normal position]', 'stick', 'tear [as in tear up that paper]', 'Except in the winter when the ooze or snow or ice prevents,', 'pat', 'up']\n['ink', 'Upgrade your status to reflect your wealth.', '[relax your mouth in its normal position]', 'Eat your raisins outdoors on the porch steps.', 'wart', 'The family requests that flowers be omitted.', 'ship', 'input/images/story_starters_46.jpg', 'why', 'tall']\n"
     ]
    }
   ],
   "source": [
    "print(len(allLabelsInData))\n",
    "print(len(errorReadLabelTxtFile))\n",
    "print(allLabelsInData[:10])\n",
    "print(allLabelsInData[-10:])"
   ]
  },
  {
   "cell_type": "code",
   "execution_count": 26,
   "metadata": {},
   "outputs": [],
   "source": [
    "def getRepfilepath(labelPath,labelContant):\n",
    "    for i in ['[',']','(',')']:\n",
    "        if i in labelContant:\n",
    "            return (labelPath,labelContant)\n",
    "        else :\n",
    "            return 'nan'"
   ]
  },
  {
   "cell_type": "code",
   "execution_count": 33,
   "metadata": {},
   "outputs": [],
   "source": [
    "with open('repFiles.txt','w',encoding='utf-8') as namesFile :\n",
    "    for i in list(set(map(getRepfilepath,allLabelFilesInDataSetPaths,allLabelsInData))):\n",
    "        namesFile.write(i[0].split(\"/\")[-1]+' : '+i[1]+'\\n')\n"
   ]
  },
  {
   "cell_type": "code",
   "execution_count": 1,
   "metadata": {},
   "outputs": [],
   "source": [
    "with open('repFiles.txt','r',encoding='utf-8') as names :\n",
    "    lis=names.readlines()"
   ]
  },
  {
   "cell_type": "code",
   "execution_count": 5,
   "metadata": {},
   "outputs": [],
   "source": [
    "results=[]\n",
    "for i in lis:\n",
    "    con=i.split(' : ')[-1].strip()\n",
    "    if 'say' in con:\n",
    "        results.append(i) "
   ]
  },
  {
   "cell_type": "code",
   "execution_count": 8,
   "metadata": {},
   "outputs": [],
   "source": [
    "with open('del.txt','w',encoding='utf-8') as namesFile :\n",
    "    for i in results:\n",
    "        namesFile.write(i)"
   ]
  },
  {
   "cell_type": "code",
   "execution_count": 7,
   "metadata": {},
   "outputs": [
    {
     "output_type": "execute_result",
     "data": {
      "text/plain": [
       "[\"M2_S1_0004.txt : [say 'Eee-P-Ah' repeatedly]\\n\",\n",
       " \"MC4_S1_0009.txt : [say 'Ah' for 5 seconds]\\n\",\n",
       " \"M3_S2_0094.txt : [say 'Ah' for 5 seconds]\\n\",\n",
       " \"MC1_S1_0001.txt : [say 'Ah-P-Eee' repeatedly]\\n\",\n",
       " \"MC2_S1_0004.txt : [say 'Ah-P-Eee' repeatedly]\\n\",\n",
       " \"M2_S1_0003.txt : [say 'Ah-P-Eee' repeatedly]\\n\",\n",
       " 'F3_S1_0029.txt : [say Ah for 5 seconds]\\n',\n",
       " \"MC1_S1_0002.txt : [say 'Eee-P-Ah' repeatedly]\\n\",\n",
       " \"M5_S1_0001.txt : [say 'Eee-P-Ah' repeatedly]\\n\",\n",
       " \"M4_S1_0002.txt : [say 'Eee-P-Ah' repeatedly]\\n\"]"
      ]
     },
     "metadata": {},
     "execution_count": 7
    }
   ],
   "source": [
    "results[:10]"
   ]
  },
  {
   "cell_type": "code",
   "execution_count": null,
   "metadata": {},
   "outputs": [],
   "source": []
  },
  {
   "cell_type": "code",
   "execution_count": 9,
   "metadata": {},
   "outputs": [],
   "source": [
    "for i in results:\n",
    "    if i in lis:\n",
    "        lis.remove(i)"
   ]
  },
  {
   "cell_type": "code",
   "execution_count": 10,
   "metadata": {},
   "outputs": [
    {
     "output_type": "execute_result",
     "data": {
      "text/plain": [
       "174"
      ]
     },
     "metadata": {},
     "execution_count": 10
    }
   ],
   "source": [
    "len(lis)"
   ]
  },
  {
   "cell_type": "code",
   "execution_count": 11,
   "metadata": {},
   "outputs": [],
   "source": [
    "with open('fix.txt','w',encoding='utf-8') as namesFile :\n",
    "    for i in lis:\n",
    "        namesFile.write(i)"
   ]
  },
  {
   "cell_type": "code",
   "execution_count": 19,
   "metadata": {},
   "outputs": [],
   "source": [
    "for i in lis:\n",
    "    if i.split(' : ')[-1].startswith('['):\n",
    "        with open('sentance.txt','a',encoding='utf-8') as namesFile :\n",
    "            namesFile.write(i)\n",
    "    else :\n",
    "        with open('word.txt','a',encoding='utf-8') as namesFile :\n",
    "            namesFile.write(i)\n"
   ]
  },
  {
   "cell_type": "code",
   "execution_count": 1,
   "metadata": {},
   "outputs": [],
   "source": [
    "with open('word.txt','r',encoding='utf-8') as names :\n",
    "    lis=names.readlines()"
   ]
  },
  {
   "cell_type": "code",
   "execution_count": 7,
   "metadata": {},
   "outputs": [
    {
     "output_type": "stream",
     "name": "stdout",
     "text": [
      "M5_S1_0118.txt\nM1_S2-3_0007.txt\nM3_S2_0176.txt\nFC3_S1_0110.txt\nFC3_S2_0156.txt\nFC1_S1_0124.txt\nMC1_S1_0207.txt\nMC2_S1_0063.txt\nMC3_S1_0068.txt\nF1_S1_0107.txt\nFC2_S3_0665.txt\nMC1_S1_0100.txt\nMC2_S1_0203.txt\nM3_S2_0055.txt\nM1_S2-3_0122.txt\nMC2_S1_0057.txt\nMC2_S1_0108.txt\nM5_S1_0014.txt\nM4_S2_0040.txt\nM5_S1_0038.txt\nM4_S2_0086.txt\nF3_S1_0035.txt\nMC2_S2_0137.txt\nFC3_S1_0024.txt\nM5_S1_0054.txt\nM4_S2_0065.txt\nFC2_S3_0663.txt\nF1_S1_0103.txt\nM3_S2_0079.txt\nMC4_S1_0121.txt\nFC1_S1_0120.txt\nMC2_S1_0048.txt\nMC3_S1_0574.txt\nM5_S2_0117.txt\nF3_S1_0020.txt\nFC1_S1_0039.txt\nMC1_S1_0089.txt\nF4_S1_0105.txt\nM4_S1_0092.txt\nMC4_S1_0078.txt\nF4_S1_0066.txt\nMC1_S1_0093.txt\nFC3_S1_0182.txt\nF1_S1_0007.txt\nMC4_S1_0070.txt\nF1_S1_0092.txt\nMC4_S2_0928.txt\nF4_S1_0161.txt\nF3_S1_0163.txt\nFC3_S1_0023.txt\nF3_S1_0042.txt\nMC3_S1_0109.txt\nM3_S2_0052.txt\nM5_S2_0118.txt\nMC1_S1_0090.txt\nF4_S1_0079.txt\nMC3_S1_0075.txt\nFC1_S1_0043.txt\nM2_S1_0057.txt\nM3_S2_0008.txt\nM2_S1_0046.txt\nF4_S1_0108.txt\nFC2_S2_0098.txt\nM4_S2_0127.txt\nM4_S2_0211.txt\nFC2_S2_0093.txt\nFC2_S2_0111.txt\nF3_S1_0089.txt\nF4_S2_0009.txt\nFC3_S1_0084.txt\nM2_S1_0194.txt\nF4_S1_0106.txt\nFC2_S2_0112.txt\nMC4_S1_0107.txt\nM4_S1_0096.txt\nMC1_S2_0214.txt\nM5_S1_0055.txt\nFC2_S3_0350.txt\nMC3_S1_0115.txt\nMC1_S3_0225.txt\nM4_S1_0035.txt\nMC3_S1_0160.txt\nFC2_S2_0220.txt\nM4_S1_0055.txt\nFC3_S1_0006.txt\nM5_S1_0118.txt\nM1_S2-3_0007.txt\nM3_S2_0176.txt\nFC3_S1_0110.txt\nFC3_S2_0156.txt\nFC1_S1_0124.txt\nMC1_S1_0207.txt\nMC2_S1_0063.txt\nMC3_S1_0068.txt\nF1_S1_0107.txt\nFC2_S3_0665.txt\nMC1_S1_0100.txt\nMC2_S1_0203.txt\nM3_S2_0055.txt\nM1_S2-3_0122.txt\nMC2_S1_0057.txt\nMC2_S1_0108.txt\nM5_S1_0014.txt\nM4_S2_0040.txt\nM5_S1_0038.txt\nM4_S2_0086.txt\nF3_S1_0035.txt\nMC2_S2_0137.txt\nFC3_S1_0024.txt\nM5_S1_0054.txt\nM4_S2_0065.txt\nFC2_S3_0663.txt\nF1_S1_0103.txt\nM3_S2_0079.txt\nMC4_S1_0121.txt\nFC1_S1_0120.txt\nMC2_S1_0048.txt\nMC3_S1_0574.txt\nM5_S2_0117.txt\nF3_S1_0020.txt\nFC1_S1_0039.txt\nMC1_S1_0089.txt\nF4_S1_0105.txt\nM4_S1_0092.txt\nMC4_S1_0078.txt\nF4_S1_0066.txt\nMC1_S1_0093.txt\nFC3_S1_0182.txt\nF1_S1_0007.txt\nMC4_S1_0070.txt\nF1_S1_0092.txt\nMC4_S2_0928.txt\nF4_S1_0161.txt\nF3_S1_0163.txt\nFC3_S1_0023.txt\nF3_S1_0042.txt\nMC3_S1_0109.txt\nM3_S2_0052.txt\nM5_S2_0118.txt\nMC1_S1_0090.txt\nF4_S1_0079.txt\nMC3_S1_0075.txt\nFC1_S1_0043.txt\nM2_S1_0057.txt\nM3_S2_0008.txt\nM2_S1_0046.txt\nF4_S1_0108.txt\nFC2_S2_0098.txt\nM4_S2_0127.txt\nM4_S2_0211.txt\nFC2_S2_0093.txt\nFC2_S2_0111.txt\nF3_S1_0089.txt\nF4_S2_0009.txt\nFC3_S1_0084.txt\nM2_S1_0194.txt\nF4_S1_0106.txt\nFC2_S2_0112.txt\nMC4_S1_0107.txt\nM4_S1_0096.txt\nMC1_S2_0214.txt\nM5_S1_0055.txt\nFC2_S3_0350.txt\nMC3_S1_0115.txt\nMC1_S3_0225.txt\nM4_S1_0035.txt\nMC3_S1_0160.txt\nFC2_S2_0220.txt\nM4_S1_0055.txt\nFC3_S1_0006.txt\nM5_S1_0118.txt\n"
     ]
    }
   ],
   "source": [
    "for i in lis:\n",
    "    con=i.split(' : ')[-1].split(' ')[0].strip()\n",
    "    if i.startswith('M'):\n",
    "        with open(torgo_data+'/m_label/'+i.split(' : ')[0].strip(),'w',encoding='utf-8') as names :\n",
    "            names.write(con)\n",
    "    else:\n",
    "        with open(torgo_data+'/f_label/'+i.split(' : ')[0].strip(),'w',encoding='utf-8') as names :\n",
    "            names.write(con)\n",
    "    print(i.split(' : ')[0].strip())"
   ]
  },
  {
   "cell_type": "code",
   "execution_count": 16,
   "metadata": {},
   "outputs": [],
   "source": [
    "def deleteAudioAndFiles(willDelete):\n",
    "        audioName=re.sub('.txt','.wav',willDelete.split(' : ')[0])\n",
    "        if audioName.startswith('M'):\n",
    "            audioPath=torgo_data+'/m_audio/'+audioName\n",
    "            labelPath=torgo_data+'/m_label/'+willDelete.split(' : ')[0]\n",
    "        else:\n",
    "            audioPath=torgo_data+'/f_audio/'+audioName\n",
    "            labelPath=torgo_data+'/f_label/'+willDelete.split(' : ')[0]\n",
    "        try:\n",
    "            os.remove(audioPath)\n",
    "            os.remove(labelPath)\n",
    "            return True\n",
    "        except:\n",
    "            return audioPath\n",
    "        "
   ]
  },
  {
   "cell_type": "code",
   "execution_count": 18,
   "metadata": {},
   "outputs": [
    {
     "output_type": "execute_result",
     "data": {
      "text/plain": [
       "[True,\n",
       " True,\n",
       " True,\n",
       " True,\n",
       " True,\n",
       " True,\n",
       " True,\n",
       " True,\n",
       " True,\n",
       " True,\n",
       " True,\n",
       " True,\n",
       " True,\n",
       " True,\n",
       " True,\n",
       " True,\n",
       " True,\n",
       " True,\n",
       " True,\n",
       " True,\n",
       " True,\n",
       " True,\n",
       " True,\n",
       " True,\n",
       " True,\n",
       " True,\n",
       " True,\n",
       " True,\n",
       " True,\n",
       " True,\n",
       " True,\n",
       " 'G:\\\\data and labels clean and collect/f_audio/F3_S1_0149.wav',\n",
       " True,\n",
       " True,\n",
       " True,\n",
       " True,\n",
       " True,\n",
       " True,\n",
       " True,\n",
       " True,\n",
       " True,\n",
       " True,\n",
       " 'G:\\\\data and labels clean and collect/f_audio/F3_S1_0100.wav',\n",
       " True,\n",
       " True,\n",
       " True,\n",
       " True,\n",
       " True,\n",
       " True,\n",
       " True,\n",
       " 'G:\\\\data and labels clean and collect/f_audio/F3_S1_0101.wav',\n",
       " True,\n",
       " True,\n",
       " True,\n",
       " True,\n",
       " True,\n",
       " True,\n",
       " True,\n",
       " True,\n",
       " True,\n",
       " True,\n",
       " True,\n",
       " True,\n",
       " True,\n",
       " True,\n",
       " True,\n",
       " True,\n",
       " True,\n",
       " True,\n",
       " True,\n",
       " True,\n",
       " True,\n",
       " True,\n",
       " True,\n",
       " True,\n",
       " True,\n",
       " True,\n",
       " True,\n",
       " True,\n",
       " True,\n",
       " True,\n",
       " True,\n",
       " True,\n",
       " 'G:\\\\data and labels clean and collect/f_audio/F3_S1_0003.wav',\n",
       " True,\n",
       " True,\n",
       " True,\n",
       " True,\n",
       " 'G:\\\\data and labels clean and collect/m_audio/M3_S2_0019.wav']"
      ]
     },
     "metadata": {},
     "execution_count": 18
    }
   ],
   "source": [
    "import re\n",
    "import os\n",
    "with open('del.txt','r',encoding='utf-8') as names :\n",
    "    lis=names.readlines()\n",
    "list(map(deleteAudioAndFiles,lis))\n",
    "with open('sentance.txt','r',encoding='utf-8') as names :\n",
    "    lis=names.readlines()\n",
    "list(map(deleteAudioAndFiles,lis))"
   ]
  },
  {
   "cell_type": "code",
   "execution_count": null,
   "metadata": {},
   "outputs": [],
   "source": []
  }
 ]
}