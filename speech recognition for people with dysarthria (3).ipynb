{
 "cells": [
  {
   "cell_type": "code",
   "execution_count": 1,
   "metadata": {},
   "outputs": [],
   "source": [
    "import librosa\n",
    "import librosa.display\n",
    "import os\n",
    "import numpy as np\n",
    "import math\n",
    "\n"
   ]
  },
  {
   "cell_type": "code",
   "execution_count": 2,
   "metadata": {},
   "outputs": [],
   "source": [
    "audio_path = r\"C:\\Users\\Salma\\Downloads\\TORGO\"\n",
    "files = os.listdir(audio_path)\n",
    "all_wave = []\n",
    "all_label = []\n",
    "mfcc_features = []\n",
    "ignored = {\"Notes\", \"phn_arrayMic\", \"amps\", \"rawpos\", \"wavall\", \"pos\", \"alignment\", \"Cpcmd\", \"EMA\", \"VIDEO\", \"wav_headMic\", \"normpos\", \"log\"}"
   ]
  },
  {
   "cell_type": "code",
   "execution_count": 3,
   "metadata": {},
   "outputs": [],
   "source": [
    "num_segments=5\n",
    "hop_length=512\n",
    "n_fft=2048\n",
    "num_mfcc=13\n",
    "SAMPLE_RATE = 16000\n",
    "AUDIO_DURATION = 10 # measured in seconds\n",
    "SAMPLES_PER_AUDIO = SAMPLE_RATE * AUDIO_DURATION\n",
    "samples_per_segment = int(SAMPLES_PER_AUDIO / num_segments)\n",
    "num_mfcc_vectors_per_segment = math.ceil(samples_per_segment / hop_length)\n",
    "\n"
   ]
  },
  {
   "cell_type": "code",
   "execution_count": 4,
   "metadata": {
    "scrolled": true
   },
   "outputs": [
    {
     "name": "stderr",
     "output_type": "stream",
     "text": [
      "C:\\Users\\Salma\\Anaconda3\\lib\\site-packages\\librosa\\core\\spectrum.py:224: UserWarning: n_fft=2048 is too small for input signal of length=0\n",
      "  n_fft, y.shape[-1]\n"
     ]
    },
    {
     "name": "stdout",
     "output_type": "stream",
     "text": [
      "Error encountered while parsing file:  0256.wav\n",
      "Error encountered while parsing file:  0256.wav\n",
      "Error encountered while parsing file:  0256.wav\n",
      "Error encountered while parsing file:  0256.wav\n",
      "Wall time: 24min 29s\n"
     ]
    }
   ],
   "source": [
    "%%time\n",
    "\n",
    "for file in files:\n",
    "    for subfile in os.listdir(audio_path + '/'):\n",
    "        \n",
    "        for session in [s for s in os.listdir(audio_path + '/' + subfile +'/')if s not in ignored]:\n",
    "            for subsession in [x for x in os.listdir(audio_path + '/'+ subfile +'/'+ session + '/')if x not in ignored]:\n",
    "                for data in [y for y in os.listdir(audio_path + '/'+ subfile +'/'+ session + '/' +subsession +'/') if y not in ignored]:\n",
    "                    \n",
    "                    waves = [f for f in os.listdir(audio_path + '/' + subfile +'/'+ session +'/' + subsession +'/' + data + '/')if f.endswith('.wav')]\n",
    "                    labels = [L for L in os.listdir(audio_path + '/' + subfile +'/'+ session +'/' + subsession + '/' + data + '/')if L.endswith('.txt')]\n",
    "\n",
    "                    for wav in waves:\n",
    "                        try:\n",
    "                            \n",
    "                        \n",
    "                            signal, sample_rate = librosa.load(audio_path + '/' + subfile +'/'+ session + '/'+subsession +'/'+ data +'/'+ wav, sr = 16000, duration =  AUDIO_DURATION , res_type='kaiser_fast')\n",
    "                            signal = librosa.resample(signal, sample_rate, 16000)\n",
    "                        \n",
    "                            #mfcc = librosa.feature.mfcc(signal[signal, sample_rate, n_mfcc=num_mfcc, n_fft=n_fft, duration = AUDIO_DURATION)\n",
    "                            #mfcc = mfcc.T    \n",
    "                                                               \n",
    "                            dur = librosa.get_duration(y=signal, sr=sample_rate)  \n",
    "                            if (round(dur) < SAMPLES_PER_AUDIO):\n",
    "                                    y = librosa.util.fix_length(signal, SAMPLES_PER_AUDIO)                \n",
    "                \n",
    "                                    # extract normalized mfcc feature from data\n",
    "                                    mfccs = np.mean(librosa.feature.mfcc(y=signal, sr=sample_rate, n_mfcc=40).T,axis=0)             \n",
    "                        except Exception as e:\n",
    "                            print(\"Error encountered while parsing file: \", wav)     \n",
    "                                                               \n",
    "                                                               \n",
    "                        feature = np.array(mfccs).reshape([-1,1])\n",
    "                        mfcc_features.append(feature)  \n",
    "                                                               \n",
    "                        all_wave.append(signal)\n",
    "                            \n",
    "                                \n",
    "                       # mfcc_features.append(mfcc.tolist())\n",
    "                                \n",
    "                    for label in labels:\n",
    "                        file_path = audio_path + '/' + subfile + '/' + session + '/' + subsession + '/' + data +'/'+ label\n",
    "                        l = open(file_path, \"r\")\n",
    "                        for target in l:\n",
    "                        \n",
    "                            all_label.append(target.strip())\n",
    "                        \n"
   ]
  },
  {
   "cell_type": "code",
   "execution_count": 7,
   "metadata": {},
   "outputs": [
    {
     "name": "stdout",
     "output_type": "stream",
     "text": [
      "['[say Ah-P-Eee repeatedly]', '[say Ah-P-Eee repeatedly]', '[say Pah-Tah-Kah repeatedly]', '[say Eee-P-Ah repeatedly]', '[relax your mouth in its normal position]', 'stick', 'tear [as in tear up that paper]', 'Except in the winter when the ooze or snow or ice prevents,', 'pat', 'up', 'meat', 'meat', 'know', 'he slowly takes a short walk in the open air each day.', 'air', 'swarm', 'double', 'no', 'storm', 'Usually minus several buttons.']\n",
      "37976\n"
     ]
    }
   ],
   "source": [
    "print(all_label[:20])\n",
    "print(len(all_label))"
   ]
  },
  {
   "cell_type": "code",
   "execution_count": 5,
   "metadata": {},
   "outputs": [
    {
     "name": "stdout",
     "output_type": "stream",
     "text": [
      "[2.1362305e-04 2.7465820e-04 9.1552734e-05 ... 4.1778564e-02 4.4006348e-02\n",
      " 5.2520752e-02]\n",
      "37668\n"
     ]
    }
   ],
   "source": [
    "print(all_wave[0])\n",
    "print(len(all_wave))"
   ]
  },
  {
   "cell_type": "code",
   "execution_count": 6,
   "metadata": {},
   "outputs": [
    {
     "name": "stdout",
     "output_type": "stream",
     "text": [
      "[[-224.21306   ]\n",
      " [  72.94931   ]\n",
      " [ -14.522216  ]\n",
      " [ -16.339384  ]\n",
      " [ -25.01845   ]\n",
      " [ -23.227844  ]\n",
      " [  -7.672507  ]\n",
      " [  -8.478441  ]\n",
      " [ -11.233618  ]\n",
      " [   5.487371  ]\n",
      " [  -3.032888  ]\n",
      " [  -3.3023393 ]\n",
      " [  -2.489651  ]\n",
      " [  -8.348123  ]\n",
      " [ -16.205877  ]\n",
      " [   0.42632586]\n",
      " [  -6.665788  ]\n",
      " [  -2.8840284 ]\n",
      " [  -6.6221347 ]\n",
      " [ -10.456499  ]\n",
      " [  -3.6583588 ]\n",
      " [  -1.2425839 ]\n",
      " [ -15.98888   ]\n",
      " [   4.2269654 ]\n",
      " [   8.152516  ]\n",
      " [  14.13198   ]\n",
      " [   6.8732743 ]\n",
      " [   9.226517  ]\n",
      " [   5.154295  ]\n",
      " [  -0.7964234 ]\n",
      " [  -6.3020616 ]\n",
      " [  -0.25740406]\n",
      " [  -2.2581935 ]\n",
      " [  -1.2106955 ]\n",
      " [  -7.3542924 ]\n",
      " [  -0.7877622 ]\n",
      " [  -6.013841  ]\n",
      " [  -1.7744093 ]\n",
      " [  -5.426818  ]\n",
      " [  -2.8802128 ]]\n",
      "37668\n"
     ]
    }
   ],
   "source": [
    "print(mfcc_features[0])\n",
    "print(len(mfcc_features))"
   ]
  },
  {
   "cell_type": "code",
   "execution_count": 9,
   "metadata": {},
   "outputs": [
    {
     "data": {
      "text/plain": [
       "<matplotlib.collections.PolyCollection at 0x20fee874588>"
      ]
     },
     "execution_count": 9,
     "metadata": {},
     "output_type": "execute_result"
    },
    {
     "data": {
      "image/png": "[encoded data removed]",
      "text/plain": [
       "<Figure size 864x288 with 1 Axes>"
      ]
     },
     "metadata": {
      "needs_background": "light"
     },
     "output_type": "display_data"
    }
   ],
   "source": [
    "import matplotlib.pyplot as plt\n",
    "\n",
    "plt.figure(figsize = (12,4))\n",
    "librosa.display.waveplot(all_wave[0], sr = sample_rate )"
   ]
  },
  {
   "cell_type": "code",
   "execution_count": 10,
   "metadata": {},
   "outputs": [
    {
     "data": {
      "image/png": "[encoded data removed]",
      "text/plain": [
       "<Figure size 720x288 with 2 Axes>"
      ]
     },
     "metadata": {
      "needs_background": "light"
     },
     "output_type": "display_data"
    }
   ],
   "source": [
    "MFCCs = librosa.feature.mfcc(all_wave[0], sample_rate, n_mfcc=13)\n",
    "\n",
    "# display MFCCs\n",
    "plt.figure(figsize=(10,4))\n",
    "librosa.display.specshow(MFCCs, x_axis = 'time')\n",
    "plt.colorbar()\n",
    "plt.title(\"MFCCs\")\n",
    "plt.tight_layout()\n",
    "plt.show()"
   ]
  },
  {
   "cell_type": "code",
   "execution_count": 5,
   "metadata": {},
   "outputs": [
    {
     "name": "stdout",
     "output_type": "stream",
     "text": [
      "[[-2.53023895e+02  8.79376450e+01  4.96896515e+01 ...  2.04245806e+00\n",
      "  -5.27361035e-01  1.12335739e+01]\n",
      " [-2.98888184e+02  7.42969666e+01  5.92756157e+01 ...  2.75989652e+00\n",
      "   3.79270291e+00  7.43510628e+00]\n",
      " [-4.15626770e+02 -2.58615732e+00  4.66258316e+01 ...  3.92027140e+00\n",
      "   9.39003181e+00  1.10144722e+00]\n",
      " ...\n",
      " [-2.42735489e+02  9.91007614e+01  8.90728188e+00 ...  7.04494286e+00\n",
      "  -1.51766014e+01 -6.90137625e+00]\n",
      " [-2.64057281e+02  1.07377914e+02  2.99488049e+01 ... -6.05578423e-02\n",
      "  -6.94904995e+00 -7.46702099e+00]\n",
      " [-2.97669220e+02  9.95014648e+01  5.83330002e+01 ... -5.35106945e+00\n",
      "  -3.99188590e+00 -5.59383106e+00]]\n"
     ]
    }
   ],
   "source": [
    "MFCCs = librosa.feature.mfcc(all_wave[0], sample_rate, n_mfcc=13)\n",
    "MFCCs = MFCCs.T\n",
    "print(MFCCs)"
   ]
  },
  {
   "cell_type": "code",
   "execution_count": 5,
   "metadata": {},
   "outputs": [
    {
     "data": {
      "text/plain": [
       "(37668, 40, 1)"
      ]
     },
     "execution_count": 5,
     "metadata": {},
     "output_type": "execute_result"
    }
   ],
   "source": [
    "X = np.array(mfcc_features)\n",
    "X.shape"
   ]
  },
  {
   "cell_type": "code",
   "execution_count": 6,
   "metadata": {},
   "outputs": [],
   "source": [
    "from sklearn.preprocessing import LabelEncoder\n",
    "\n",
    "le = LabelEncoder()\n",
    "y = le.fit_transform(all_label)\n",
    "classes = list(le.classes_)\n"
   ]
  },
  {
   "cell_type": "code",
   "execution_count": 7,
   "metadata": {},
   "outputs": [],
   "source": [
    "from keras.utils import np_utils\n",
    "y = np_utils.to_categorical(y, num_classes = len(labels))\n",
    "y = np.array(y)\n",
    "#x = np.array(all_wave)  "
   ]
  },
  {
   "cell_type": "code",
   "execution_count": 8,
   "metadata": {},
   "outputs": [
    {
     "data": {
      "text/plain": [
       "(37976, 1009)"
      ]
     },
     "execution_count": 8,
     "metadata": {},
     "output_type": "execute_result"
    }
   ],
   "source": [
    "y.shape"
   ]
  },
  {
   "cell_type": "code",
   "execution_count": 9,
   "metadata": {},
   "outputs": [],
   "source": [
    "y = y[:-308]"
   ]
  },
  {
   "cell_type": "code",
   "execution_count": 10,
   "metadata": {},
   "outputs": [
    {
     "data": {
      "text/plain": [
       "(37668, 1009)"
      ]
     },
     "execution_count": 10,
     "metadata": {},
     "output_type": "execute_result"
    }
   ],
   "source": [
    "y.shape"
   ]
  },
  {
   "cell_type": "code",
   "execution_count": 18,
   "metadata": {},
   "outputs": [
    {
     "data": {
      "text/plain": [
       "()"
      ]
     },
     "execution_count": 18,
     "metadata": {},
     "output_type": "execute_result"
    }
   ],
   "source": []
  },
  {
   "cell_type": "code",
   "execution_count": 11,
   "metadata": {},
   "outputs": [],
   "source": [
    "from sklearn.model_selection import train_test_split\n",
    "\n",
    "x_train, x_test, y_train, y_test = train_test_split(X, y, test_size= 0.2, random_state = 42)"
   ]
  }
 ],
 "metadata": {
  "kernelspec": {
   "display_name": "Python 3",
   "language": "python",
   "name": "python3"
  },
  "language_info": {
   "codemirror_mode": {
    "name": "ipython",
    "version": 3
   },
   "file_extension": ".py",
   "mimetype": "text/x-python",
   "name": "python",
   "nbconvert_exporter": "python",
   "pygments_lexer": "ipython3",
   "version": "3.7.4"
  }
 },
 "nbformat": 4,
 "nbformat_minor": 2
}
