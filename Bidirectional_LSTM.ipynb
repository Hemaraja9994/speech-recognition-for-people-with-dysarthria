{
  "nbformat": 4,
  "nbformat_minor": 0,
  "metadata": {
    "kernelspec": {
      "name": "python370jvsc74a57bd0afc262fa681f62a18d832199f49cd4644c53989ada99c308121848eb1c9add3f",
      "display_name": "Python 3.7.0 64-bit ('Python37')"
    },
    "language_info": {
      "codemirror_mode": {
        "name": "ipython",
        "version": 3
      },
      "file_extension": ".py",
      "mimetype": "text/x-python",
      "name": "python",
      "nbconvert_exporter": "python",
      "pygments_lexer": "ipython3",
      "version": "3.7.0"
    },
    "metadata": {
      "interpreter": {
        "hash": "afc262fa681f62a18d832199f49cd4644c53989ada99c308121848eb1c9add3f"
      }
    },
    "colab": {
      "name": "1Bidirectional_LSTM.ipynb",
      "provenance": [],
      "collapsed_sections": [],
      "machine_shape": "hm"
    },
    "accelerator": "GPU"
  },
  "cells": [
    {
      "cell_type": "code",
      "metadata": {
        "id": "xXLnPQ4TRgPz",
        "colab": {
          "base_uri": "https://localhost:8080/"
        },
        "outputId": "6688aaea-9177-41f1-a8ea-11fc38b225c3"
      },
      "source": [
        "from google.colab import drive  #for colab only\n",
        "drive.mount('/content/gdrive')"
      ],
      "execution_count": null,
      "outputs": []
    },
    {
      "cell_type": "code",
      "metadata": {
        "id": "cXFUSi5_NuWQ"
      },
      "source": [
        "import librosa\n",
        "import librosa.display\n",
        "import os\n",
        "import numpy as np\n",
        "import math\n",
        "import re"
      ],
      "execution_count": null,
      "outputs": []
    },
    {
      "cell_type": "markdown",
      "metadata": {
        "id": "tsYvz6nfNuWS"
      },
      "source": [
        "## Load DataSet Files name"
      ]
    },
    {
      "cell_type": "code",
      "metadata": {
        "id": "o90I8aEcNuWS"
      },
      "source": [
        "#torgoPath = r\"E:\\tergo dataset\\data and labels\" # DataSet path update it \n",
        "UASpeech = r\"data_C\" # DataSet path update it "
      ],
      "execution_count": null,
      "outputs": []
    },
    {
      "cell_type": "code",
      "metadata": {
        "id": "muXCWtPFNuWT"
      },
      "source": [
        "def readDataSetFiles(DataSetPath,labels=True,mark='\\\\'):\n",
        "    allFilesInPath=sorted(os.listdir(DataSetPath))\n",
        "    dataSetAllMainFolders=[File for File in allFilesInPath if os.path.isdir(DataSetPath+mark+File) ]  #[f_audio,f_label,m_audio,m_label]\n",
        "    allDataFilesInDataSetPaths =[DataSetPath +mark + Folder+mark+File for Folder in dataSetAllMainFolders for File in sorted(os.listdir(DataSetPath +mark + Folder)) if re.search('_audio',Folder)] #get all wav files in one list\n",
        "    if labels:\n",
        "        allLabelFilesInDataSetPaths=[DataSetPath +mark+ Folder+mark+File for Folder in dataSetAllMainFolders for File in sorted(os.listdir(DataSetPath + mark + Folder)) if re.search('_label',Folder)] #get all txt files in one list\n",
        "    else:allLabelFilesInDataSetPaths=[]\n",
        "    del(dataSetAllMainFolders)\n",
        "    return allDataFilesInDataSetPaths,allLabelFilesInDataSetPaths\n"
      ],
      "execution_count": null,
      "outputs": []
    },
    {
      "cell_type": "code",
      "metadata": {
        "id": "xqZMrK2WNuWT"
      },
      "source": [
        "allDataFilesInDataSetPaths,allLabelFilesInDataSetPaths=readDataSetFiles(UASpeech,labels=True,mark='/')"
      ],
      "execution_count": null,
      "outputs": []
    },
    {
      "cell_type": "code",
      "metadata": {
        "tags": [],
        "id": "Tgajl15MNuWT",
        "colab": {
          "base_uri": "https://localhost:8080/"
        },
        "outputId": "2bbf6daa-9b77-49ad-e5d1-9b3cc6a45d12"
      },
      "source": [
        "print(len(allDataFilesInDataSetPaths))\n",
        "print(len(allLabelFilesInDataSetPaths))\n",
        "print('first data file',allDataFilesInDataSetPaths[:1],'last data file',allDataFilesInDataSetPaths[-1:])\n",
        "print('first label file',allLabelFilesInDataSetPaths[:1],'last label file',allLabelFilesInDataSetPaths[-1:])"
      ],
      "execution_count": null,
      "outputs": []
    },
    {
      "cell_type": "code",
      "metadata": {
        "id": "cfrehsQqNuWU"
      },
      "source": [
        "def readLabelsLinesFromTxt(labelsFiles):\n",
        "    errorReadLabelTxtFile,allLabelFilesInDataSetPaths=[],[]\n",
        "    for labelsFileName in labelsFiles:\n",
        "        try:\n",
        "            with open(labelsFileName) as labelTxtFile:\n",
        "                allLabelsInData=sorted(labelTxtFile.readlines())\n",
        "                allLabelsInData=[line.split(':')[-1].strip() for line in allLabelsInData]\n",
        "        except:\n",
        "            errorReadLabelTxtFile.append(labelsFileName)\n",
        "    return allLabelsInData,errorReadLabelTxtFile"
      ],
      "execution_count": null,
      "outputs": []
    },
    {
      "cell_type": "code",
      "metadata": {
        "id": "qKUURiUZNuWV",
        "colab": {
          "base_uri": "https://localhost:8080/"
        },
        "outputId": "2e908f47-4880-45c4-8f5f-b678e19168a5"
      },
      "source": [
        "%%time\n",
        "allLabelsInData,errorReadLabelTxtFile=readLabelsLinesFromTxt(allLabelFilesInDataSetPaths)"
      ],
      "execution_count": null,
      "outputs": []
    },
    {
      "cell_type": "code",
      "metadata": {
        "id": "bQswKy9TNuWV",
        "colab": {
          "base_uri": "https://localhost:8080/"
        },
        "outputId": "7837b077-e87f-4d77-85b2-5536eb4b3e5d"
      },
      "source": [
        "print(len(allLabelsInData))\n",
        "print(len(errorReadLabelTxtFile))\n",
        "print(allLabelsInData[:10])\n",
        "print(allLabelsInData[-10:])"
      ],
      "execution_count": null,
      "outputs": []
    },
    {
      "cell_type": "code",
      "metadata": {
        "id": "pkj0LUrFV_yQ"
      },
      "source": [
        "# print(allDataFilesInDataSetPaths[38250])\n",
        "# print(allLabelsInData[38250])"
      ],
      "execution_count": null,
      "outputs": []
    },
    {
      "cell_type": "code",
      "metadata": {
        "id": "5BQeMN138J3w"
      },
      "source": [
        "# allDataFilesInDataSetPaths=allDataFilesInDataSetPaths[49405:]\n",
        "# allLabelsInData=allLabelsInData[49405:]\n",
        "# allDataFilesInDataSetPaths=allDataFilesInDataSetPaths[:38250]\n",
        "# allLabelsInData=allLabelsInData[:38250]"
      ],
      "execution_count": null,
      "outputs": []
    },
    {
      "cell_type": "code",
      "metadata": {
        "id": "vlNTRqtp9iPa"
      },
      "source": [
        "# print(allDataFilesInDataSetPaths[:5])\n",
        "# print(allLabelsInData[:5])"
      ],
      "execution_count": null,
      "outputs": []
    },
    {
      "cell_type": "markdown",
      "metadata": {
        "id": "FkyMby2YNuWW"
      },
      "source": [
        "# set variables as default values "
      ]
    },
    {
      "cell_type": "code",
      "metadata": {
        "id": "2w-G5kj4NuWW"
      },
      "source": [
        "SAMPLE_RATE = 16000\n",
        "AUDIO_DURATION = 10 # measured in seconds\n"
      ],
      "execution_count": null,
      "outputs": []
    },
    {
      "cell_type": "markdown",
      "metadata": {
        "id": "volNDou4NuWW"
      },
      "source": [
        "# Extract signal and mfcc feature form waves"
      ]
    },
    {
      "cell_type": "code",
      "metadata": {
        "id": "CXhl0naQNuWX"
      },
      "source": [
        "def extractSignal_mfccFeature(allAudioFilesPaths,sampleRate,audioDuration):\n",
        "    allWavesInDataAsNumpyArray, errorFilesInDataset,mfccFeaturesNumpyArray= [] ,[] ,[] \n",
        "    for dataFilePath in allAudioFilesPaths: # all wave files paths\n",
        "        print(dataFilePath.split('\\\\')[-1])\n",
        "        try:\n",
        "            signal, sampleRate = librosa.load(dataFilePath , sr = sampleRate , duration = audioDuration , res_type='kaiser_fast')#get signals and sampleRate in ane wave (dataFilePath)   \n",
        "            mfccs = np.mean(librosa.feature.mfcc(y=signal, sr=sampleRate, n_mfcc=40).T,axis=0)  #get mfcc array featture for one wave   \n",
        "        except :\n",
        "            errorFilesInDataset.append(dataFilePath) #collect name of file that have error to find it\n",
        "        feature = np.array(mfccs).reshape([-1,1]) #get mfcc array featture for one wave after reshape it\n",
        "        mfccFeaturesNumpyArray.append(feature)  #apeend featture array to get list of all waves feature                       \n",
        "        allWavesInDataAsNumpyArray.append(signal) #apeend signal array to get list of all waves signals\n",
        "    return mfccFeaturesNumpyArray,allWavesInDataAsNumpyArray,errorFilesInDataset"
      ],
      "execution_count": null,
      "outputs": []
    },
    {
      "cell_type": "code",
      "metadata": {
        "tags": [
          "outputPrepend"
        ],
        "id": "JT0u8LVjNuWY",
        "colab": {
          "base_uri": "https://localhost:8080/"
        },
        "outputId": "8350568c-cb6f-4562-a0c4-c826019ee732"
      },
      "source": [
        "%%time\n",
        "mfccFeaturesAsNumpyArray,allWavesInDataAsNumpyArray,errorFilesInDataset = extractSignal_mfccFeature(allDataFilesInDataSetPaths[:],SAMPLE_RATE,AUDIO_DURATION)"
      ],
      "execution_count": null,
      "outputs": []
    },
    {
      "cell_type": "markdown",
      "metadata": {
        "id": "ippuywEPNuWY"
      },
      "source": []
    },
    {
      "cell_type": "code",
      "metadata": {
        "id": "Nlk_8tX-NuWZ"
      },
      "source": [
        "# def extractTextFromTextFiles(LabelOfDataSetPaths):\n",
        "#     allLabelsInDatasetText,errorTextFilePaths=[],[]\n",
        "#     for labelFilePath in LabelOfDataSetPaths:  # all txt files\n",
        "#         try:\n",
        "#             with open(labelFilePath, \"r\") as labelTextFile: # open label file\n",
        "#                 allLabelsInDatasetText.append(labelTextFile.read().strip()) #get labels text in one list without duple spaces or \\n\n",
        "#             print(labelFilePath.split('\\\\')[-1])\n",
        "#         except:\n",
        "#             errorTextFilePaths.append(labelFilePath)\n",
        "#             print(errorTextFilePaths[:10])\n",
        "#     return allLabelsInDatasetText,errorTextFilePaths"
      ],
      "execution_count": null,
      "outputs": []
    },
    {
      "cell_type": "code",
      "metadata": {
        "id": "V_GP0qAgNuWZ",
        "colab": {
          "base_uri": "https://localhost:8080/"
        },
        "outputId": "334dd680-7134-4eaa-b66f-7883eb764030"
      },
      "source": [
        "print(allLabelsInData[:10])\n",
        "print(len(allLabelsInData),'\\n\\n')\n",
        "print(allWavesInDataAsNumpyArray[0])\n",
        "print(len(allWavesInDataAsNumpyArray),'\\n\\n')\n",
        "print(errorFilesInDataset)"
      ],
      "execution_count": null,
      "outputs": []
    },
    {
      "cell_type": "code",
      "metadata": {
        "id": "gGD_JI2DNuWa",
        "colab": {
          "base_uri": "https://localhost:8080/"
        },
        "outputId": "581fa8cd-15a3-4946-aedb-f8d8de1732cf"
      },
      "source": [
        "print(mfccFeaturesAsNumpyArray[0])\n",
        "print(len(mfccFeaturesAsNumpyArray))"
      ],
      "execution_count": null,
      "outputs": []
    },
    {
      "cell_type": "code",
      "metadata": {
        "id": "cGcamMgiNuWa",
        "colab": {
          "base_uri": "https://localhost:8080/",
          "height": 296
        },
        "outputId": "382091ed-0505-4083-fee8-da74861a1f01"
      },
      "source": [
        "import matplotlib.pyplot as plt\n",
        "plt.figure(figsize = (12,4))\n",
        "librosa.display.waveplot(allWavesInDataAsNumpyArray[0], sr = SAMPLE_RATE )"
      ],
      "execution_count": null,
      "outputs": []
    },
    {
      "cell_type": "code",
      "metadata": {
        "id": "1ipAWgu5NuWb",
        "colab": {
          "base_uri": "https://localhost:8080/",
          "height": 297
        },
        "outputId": "999987ef-fb5d-4524-8edf-db91ed3c5953"
      },
      "source": [
        "MFCCs = librosa.feature.mfcc(allWavesInDataAsNumpyArray[0], SAMPLE_RATE, n_mfcc=13)\n",
        "# display MFCCs\n",
        "plt.figure(figsize=(10,4))\n",
        "librosa.display.specshow(MFCCs, x_axis = 'time')\n",
        "plt.colorbar()\n",
        "plt.title(\"MFCCs\")\n",
        "plt.tight_layout()\n",
        "plt.show()"
      ],
      "execution_count": null,
      "outputs": []
    },
    {
      "cell_type": "code",
      "metadata": {
        "id": "RB_G8VMGNuWb",
        "colab": {
          "base_uri": "https://localhost:8080/"
        },
        "outputId": "ddffed1c-0692-4bdb-842a-d4af04632d3e"
      },
      "source": [
        "MFCCs = librosa.feature.mfcc(allWavesInDataAsNumpyArray[0], SAMPLE_RATE, n_mfcc=13)\n",
        "MFCCs = MFCCs.T\n",
        "print(MFCCs)"
      ],
      "execution_count": null,
      "outputs": []
    },
    {
      "cell_type": "code",
      "metadata": {
        "tags": [
          "outputPrepend"
        ],
        "id": "plyVf6XgNuWc",
        "colab": {
          "base_uri": "https://localhost:8080/"
        },
        "outputId": "fd18fcac-558a-4f74-91ae-3292bf3a3174"
      },
      "source": [
        "print(mfccFeaturesAsNumpyArray[0])"
      ],
      "execution_count": null,
      "outputs": []
    },
    {
      "cell_type": "code",
      "metadata": {
        "id": "yawTBFzENuWc",
        "colab": {
          "base_uri": "https://localhost:8080/"
        },
        "outputId": "9ede422a-ad83-499c-86d7-7781ad637961"
      },
      "source": [
        "  X = np.array(mfccFeaturesAsNumpyArray)\n",
        "  print(X.shape)"
      ],
      "execution_count": null,
      "outputs": []
    },
    {
      "cell_type": "code",
      "metadata": {
        "id": "QiSs4BxWNuWd",
        "colab": {
          "base_uri": "https://localhost:8080/"
        },
        "outputId": "30838dbc-d4c2-4773-e6d2-7b7c8608744b"
      },
      "source": [
        "from sklearn.preprocessing import LabelEncoder\n",
        "le = LabelEncoder()\n",
        "y = le.fit_transform(allLabelsInData)\n",
        "classes = len(list(le.classes_))\n",
        "print(y.shape)\n",
        "print(classes)"
      ],
      "execution_count": null,
      "outputs": []
    },
    {
      "cell_type": "code",
      "metadata": {
        "id": "jj5K5JFJNuWd",
        "colab": {
          "base_uri": "https://localhost:8080/"
        },
        "outputId": "8705dca3-c5bf-4be9-eee4-6e300ce1eee7"
      },
      "source": [
        "from keras.utils import np_utils\n",
        "y = np_utils.to_categorical(y)\n",
        "#, num_classes = len(allLabelsInDatasetText)\n",
        "y = np.array(y)  \n",
        "print(y.shape)"
      ],
      "execution_count": null,
      "outputs": []
    },
    {
      "cell_type": "code",
      "metadata": {
        "id": "3_THbVrHNuWd"
      },
      "source": [
        "from sklearn.model_selection import train_test_split\n",
        "x_train, x_test, y_train, y_test = train_test_split(X, y, test_size= 0.2, random_state = 42)"
      ],
      "execution_count": null,
      "outputs": []
    },
    {
      "cell_type": "code",
      "metadata": {
        "id": "4KjpKt9vkDIi"
      },
      "source": [
        "# from sklearn.model_selection import train_test_split\n",
        "# x_train, x_test, y_train, y_test = train_test_split(X, y, test_size= 0.3, random_state = 42)\n",
        "\n",
        "# x_test,x_val, y_test,y_val = train_test_split(x_test, y_test, test_size= 0.3, random_state = 42)"
      ],
      "execution_count": null,
      "outputs": []
    },
    {
      "cell_type": "code",
      "metadata": {
        "id": "SHzuXJsqlKZT"
      },
      "source": [
        "# print(len(x_train))\n",
        "# print(len(y_train))\n",
        "# print(len(x_test))\n",
        "# print(len(y_test))\n",
        "# print(len(x_val))\n",
        "# print(len(y_val))"
      ],
      "execution_count": null,
      "outputs": []
    },
    {
      "cell_type": "code",
      "metadata": {
        "id": "CK0oCkpfNuWd"
      },
      "source": [
        "from keras.models import Sequential\n",
        "from keras.layers import Dense , Dropout , Activation , Flatten , Conv2D, MaxPooling2D, TimeDistributed, LSTM , Bidirectional ,SpatialDropout2D,SpatialDropout1D\n",
        "from keras.optimizers import Adam\n",
        "from sklearn import metrics\n",
        "from sklearn.metrics import accuracy_score"
      ],
      "execution_count": null,
      "outputs": []
    },
    {
      "cell_type": "code",
      "metadata": {
        "id": "3D2BYJppNuWe",
        "colab": {
          "base_uri": "https://localhost:8080/"
        },
        "outputId": "579c9cae-bd53-49f6-e49a-59eb446bc484"
      },
      "source": [
        "print(x_train.shape)\n",
        "print (x_test.shape)\n",
        "print (y_train.shape)"
      ],
      "execution_count": null,
      "outputs": []
    },
    {
      "cell_type": "code",
      "metadata": {
        "id": "BOvmz4z-T7ry"
      },
      "source": [
        "from keras.layers import LSTM, TimeDistributed, Dense, Activation, Input \n",
        "from keras.optimizers import Adam\n",
        "from numpy import zeros\n",
        "import keras.layers as KL\n",
        "import keras.models as KM\n",
        "import keras.engine as KE\n",
        "# from keras_ctcmodel.CTCModel import CTCModel as CTCModel\n",
        "from tensorflow.keras.layers import BatchNormalization"
      ],
      "execution_count": null,
      "outputs": []
    },
    {
      "source": [
        "### for using GPU but must be nevdia not amd"
      ],
      "cell_type": "markdown",
      "metadata": {
        "id": "a9vx0NHZf0gb"
      }
    },
    {
      "cell_type": "code",
      "metadata": {
        "id": "2XA0TlPncXJA"
      },
      "source": [
        "import keras\n",
        "import tensorflow as tf\n",
        "\n",
        "config = tf.compat.v1.ConfigProto( device_count = {'GPU': 1} ) \n",
        "sess = tf.compat.v1.Session(config=config) \n",
        "keras.backend.set_session(sess)\n",
        "\n",
        "from tensorflow.python.client import device_lib    #for print the resources of device\n",
        "print(device_lib.list_local_devices())  "
      ],
      "execution_count": null,
      "outputs": []
    },
    {
      "cell_type": "code",
      "metadata": {
        "id": "PaJILChZNuWe",
        "colab": {
          "base_uri": "https://localhost:8080/"
        },
        "outputId": "1ab17f7d-2970-4bcb-e0b6-fb3914aa45a7"
      },
      "source": [
        "inputshape = x_train.shape[1:]\n",
        "model = Sequential()\n",
        "\n",
        "# using BLSTM\n",
        "model.add(Bidirectional(LSTM(512,return_sequences=True),input_shape = x_train.shape[1:] ))\n",
        "model.add(SpatialDropout1D(0.3))\n",
        "model.add(BatchNormalization())\n",
        "model.add(Bidirectional(LSTM(512,return_sequences=True)))\n",
        "model.add(SpatialDropout1D(0.3))\n",
        "model.add(BatchNormalization())\n",
        "model.add(Bidirectional(LSTM(512,return_sequences=True)))\n",
        "model.add(SpatialDropout1D(0.3))\n",
        "model.add(BatchNormalization())\n",
        "model.add(Bidirectional(LSTM(512,return_sequences=True)))\n",
        "model.add(SpatialDropout1D(0.3))\n",
        "model.add(BatchNormalization())\n",
        "model.add(Bidirectional(LSTM(512)))#recurrent_dropout=.5,recurrent_activation='relu'\n",
        "model.add(Dropout(0.3))\n",
        "model.add(BatchNormalization())\n",
        "\n",
        "#fully connected\n",
        "model.add(Dense(512, activation = 'relu'))\n",
        "model.add(Dropout(0.3))\n",
        "model.add(BatchNormalization())\n",
        "#softmax\n",
        "model.add(Dense(classes,activation = 'softmax'))\n",
        "\n",
        "model.summary()"
      ],
      "execution_count": null,
      "outputs": []
    },
    {
      "cell_type": "code",
      "metadata": {
        "id": "tAd3-f2RjmBW"
      },
      "source": [
        "# def cc_loss_w_smoothing(y_true, y_pred):\n",
        "#     label_smoothing = 0.1\n",
        "#     return keras.losses.categorical_crossentropy(y_true, y_pred, label_smoothing=label_smoothing )"
      ],
      "execution_count": null,
      "outputs": []
    },
    {
      "cell_type": "code",
      "metadata": {
        "id": "UkObfbgnNuWe"
      },
      "source": [
        "model.compile(optimizer= Adam(learning_rate=3e-4),loss='categorical_crossentropy', metrics=['accuracy'])"
      ],
      "execution_count": null,
      "outputs": []
    },
    {
      "cell_type": "code",
      "metadata": {
        "colab": {
          "base_uri": "https://localhost:8080/"
        },
        "id": "7rGDHwX5xGsQ",
        "outputId": "4fc199a0-6558-4a1b-fe99-628794b5d6a3"
      },
      "source": [
        "%%time\n",
        "History = model.fit(x_train, y_train, validation_data=(x_test, y_test), epochs=80,batch_size=256)"
      ],
      "execution_count": null,
      "outputs": []
    },
    {
      "cell_type": "code",
      "metadata": {
        "id": "r8ETVX7FNuWf",
        "colab": {
          "base_uri": "https://localhost:8080/"
        },
        "outputId": "ef70884a-fb12-4ee7-f885-5cf2ac1c1ce9"
      },
      "source": [
        "History.history"
      ],
      "execution_count": null,
      "outputs": []
    },
    {
      "cell_type": "code",
      "metadata": {
        "id": "Ctb1fjpEcV5Y",
        "colab": {
          "base_uri": "https://localhost:8080/"
        },
        "outputId": "1c279ecf-9a83-4eea-f64d-b9392346bd53"
      },
      "source": [
        "# from google.colab import drive\n",
        "# drive.mount('/content/gdrive')"
      ],
      "execution_count": null,
      "outputs": []
    },
    {
      "cell_type": "code",
      "metadata": {
        "id": "OmQtJC5rcbfA",
        "colab": {
          "base_uri": "https://localhost:8080/"
        },
        "outputId": "fe125497-4562-467c-e966-4a6626040393"
      },
      "source": [
        "model.save('/content/gdrive/MyDrive/Bidirectional_LSTM_edit/Bidirectional_LSTM_dataM  76%-43%')"
      ],
      "execution_count": null,
      "outputs": []
    },
    {
      "cell_type": "code",
      "metadata": {
        "id": "DNziI5HiNuWf",
        "colab": {
          "base_uri": "https://localhost:8080/"
        },
        "outputId": "74669dfc-e1ff-4236-f094-ccceb6ffc8ac"
      },
      "source": [
        "# Evaluate the model on the test data using `evaluate`\n",
        "print(\"Evaluate on test data\")\n",
        "results = model.evaluate(x_test, y_test)\n",
        "print(\"test loss, test acc:\", results)"
      ],
      "execution_count": null,
      "outputs": []
    },
    {
      "cell_type": "code",
      "metadata": {
        "id": "rH1u1B81NuWf",
        "colab": {
          "base_uri": "https://localhost:8080/"
        },
        "outputId": "f437bc1d-6cdc-4e2b-fbf6-39e5381827d9"
      },
      "source": [
        "# Generate predictions (probabilities -- the output of the last layer)\n",
        "# on new data using `predict`\n",
        "print(\"Generate predictions for 3 samples\")\n",
        "predicted = model.predict(x_test[:3])\n",
        "print(\"True=%s, Predicted=%s\" % (x_test[:3], predicted[:3]))"
      ],
      "execution_count": null,
      "outputs": []
    },
    {
      "cell_type": "code",
      "metadata": {
        "id": "gsyS2PmcgMVA"
      },
      "source": [
        "def plot_confusion_matrix(y_true, y_pred):\n",
        "    \"\"\"\n",
        "    plots the confusion matrix\n",
        "    \"\"\"\n",
        "    matrix = confusion_matrix(y_true, y_pred)    \n",
        "    fig, ax = plt.subplots(figsize=(12,10))\n",
        "    plt.imshow(matrix)\n",
        "    max_confusions = 0\n",
        "    confused_classes = (-1, -1)\n",
        "    for i, true_label in enumerate(matrix):\n",
        "        for j, predicted_label in enumerate(true_label):\n",
        "            text = ax.text(j, i, matrix[i, j],\n",
        "                        ha=\"center\", va=\"center\", color=\"w\");\n",
        "    plt.tick_params(axis=u'both', which=u'both',length=0)\n",
        "    plt.title(\"Confusion Matrix\");\n",
        "\n",
        "def plot_loss(history):\n",
        "    from matplotlib import pyplot as plt\n",
        "    plt.figure(figsize=(10,7))\n",
        "    plt.plot(history.history['loss'], c =\"darkblue\")\n",
        "    plt.plot(history.history['val_loss'], c =\"crimson\")\n",
        "    plt.legend([\"Train\", \"Validation\"])\n",
        "    plt.title(\"Model loss\")\n",
        "    plt.xlabel(\"Epoch\")\n",
        "    plt.ylabel(\"Loss\")\n",
        "    plt.grid(True, alpha = 0.2)\n",
        "    plt.show()"
      ],
      "execution_count": null,
      "outputs": []
    },
    {
      "cell_type": "code",
      "metadata": {
        "id": "zQwn1AkUNuWg",
        "colab": {
          "base_uri": "https://localhost:8080/",
          "height": 458
        },
        "outputId": "c6c1aba0-1a8d-4127-e4dd-aeca7fd3d88c"
      },
      "source": [
        "plot_loss(History)"
      ],
      "execution_count": null,
      "outputs": []
    },
    {
      "cell_type": "code",
      "metadata": {
        "id": "txOAlRiIjjOW"
      },
      "source": [],
      "execution_count": null,
      "outputs": []
    }
  ]
}